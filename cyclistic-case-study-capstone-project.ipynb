{
 "cells": [
  {
   "cell_type": "markdown",
   "id": "ff335093",
   "metadata": {
    "papermill": {
     "duration": 0.008772,
     "end_time": "2023-04-28T17:04:16.823783",
     "exception": false,
     "start_time": "2023-04-28T17:04:16.815011",
     "status": "completed"
    },
    "tags": []
   },
   "source": [
    "# **About the company**\n",
    "\n",
    "In 2016, Cyclistic launched a successful bike-share offering. Since then, the program has grown to a fleet of 5,824 bicycles that are geotracked and locked into a network of 692 stations across Chicago. The bikes can be unlocked from one station and returned to any other station in the system anytime. "
   ]
  },
  {
   "cell_type": "markdown",
   "id": "01fe0477",
   "metadata": {
    "papermill": {
     "duration": 0.007591,
     "end_time": "2023-04-28T17:04:16.838961",
     "exception": false,
     "start_time": "2023-04-28T17:04:16.831370",
     "status": "completed"
    },
    "tags": []
   },
   "source": [
    "# **Business Task Summery**\n",
    "\n",
    "The goal of this analysis is to understand how casual riders and annual members use Cyclistic bikes differently, to design a new marketing strategy to convert casual riders into annual members to increase companies growth."
   ]
  },
  {
   "cell_type": "markdown",
   "id": "9b4c22c4",
   "metadata": {
    "papermill": {
     "duration": 0.007237,
     "end_time": "2023-04-28T17:04:16.853448",
     "exception": false,
     "start_time": "2023-04-28T17:04:16.846211",
     "status": "completed"
    },
    "tags": []
   },
   "source": [
    "# **Questions for Analysis**\n",
    "\n",
    "1. How do annual members and casual riders use Cyclistic bikes differently?\n",
    "2. Why would casual riders buy Cyclistic annual memberships? \n",
    "3. How can Cyclistic use digital media to influence casual riders to become members? "
   ]
  },
  {
   "cell_type": "markdown",
   "id": "ede21fec",
   "metadata": {
    "papermill": {
     "duration": 0.006854,
     "end_time": "2023-04-28T17:04:16.867508",
     "exception": false,
     "start_time": "2023-04-28T17:04:16.860654",
     "status": "completed"
    },
    "tags": []
   },
   "source": [
    "# **Data Source**\n",
    "\n",
    "Last 12 month Cyclistic trip data from April 2022 to March 2023 was used for this analysis"
   ]
  },
  {
   "cell_type": "code",
   "execution_count": 1,
   "id": "b38f057c",
   "metadata": {
    "execution": {
     "iopub.execute_input": "2023-04-28T17:04:16.885574Z",
     "iopub.status.busy": "2023-04-28T17:04:16.883431Z",
     "iopub.status.idle": "2023-04-28T17:04:18.180735Z",
     "shell.execute_reply": "2023-04-28T17:04:18.178752Z"
    },
    "papermill": {
     "duration": 1.309963,
     "end_time": "2023-04-28T17:04:18.184374",
     "exception": false,
     "start_time": "2023-04-28T17:04:16.874411",
     "status": "completed"
    },
    "tags": []
   },
   "outputs": [
    {
     "name": "stderr",
     "output_type": "stream",
     "text": [
      "── \u001b[1mAttaching core tidyverse packages\u001b[22m ──────────────────────── tidyverse 2.0.0 ──\n",
      "\u001b[32m✔\u001b[39m \u001b[34mdplyr    \u001b[39m 1.1.0     \u001b[32m✔\u001b[39m \u001b[34mreadr    \u001b[39m 2.1.4\n",
      "\u001b[32m✔\u001b[39m \u001b[34mforcats  \u001b[39m 1.0.0     \u001b[32m✔\u001b[39m \u001b[34mstringr  \u001b[39m 1.5.0\n",
      "\u001b[32m✔\u001b[39m \u001b[34mggplot2  \u001b[39m 3.4.1     \u001b[32m✔\u001b[39m \u001b[34mtibble   \u001b[39m 3.1.8\n",
      "\u001b[32m✔\u001b[39m \u001b[34mlubridate\u001b[39m 1.9.2     \u001b[32m✔\u001b[39m \u001b[34mtidyr    \u001b[39m 1.3.0\n",
      "\u001b[32m✔\u001b[39m \u001b[34mpurrr    \u001b[39m 1.0.1     \n",
      "── \u001b[1mConflicts\u001b[22m ────────────────────────────────────────── tidyverse_conflicts() ──\n",
      "\u001b[31m✖\u001b[39m \u001b[34mdplyr\u001b[39m::\u001b[32mfilter()\u001b[39m masks \u001b[34mstats\u001b[39m::filter()\n",
      "\u001b[31m✖\u001b[39m \u001b[34mdplyr\u001b[39m::\u001b[32mlag()\u001b[39m    masks \u001b[34mstats\u001b[39m::lag()\n",
      "\u001b[36mℹ\u001b[39m Use the conflicted package (\u001b[3m\u001b[34m<http://conflicted.r-lib.org/>\u001b[39m\u001b[23m) to force all conflicts to become errors\n"
     ]
    }
   ],
   "source": [
    "# Loading Packages\n",
    "\n",
    "library(tidyverse)\n",
    "library(lubridate)\n",
    "library(ggplot2)\n",
    "library(dplyr)\n",
    "library(readxl)\n"
   ]
  },
  {
   "cell_type": "code",
   "execution_count": 2,
   "id": "3f66de7e",
   "metadata": {
    "execution": {
     "iopub.execute_input": "2023-04-28T17:04:18.237210Z",
     "iopub.status.busy": "2023-04-28T17:04:18.202208Z",
     "iopub.status.idle": "2023-04-28T17:05:53.119515Z",
     "shell.execute_reply": "2023-04-28T17:05:53.117593Z"
    },
    "papermill": {
     "duration": 94.929167,
     "end_time": "2023-04-28T17:05:53.122014",
     "exception": false,
     "start_time": "2023-04-28T17:04:18.192847",
     "status": "completed"
    },
    "tags": []
   },
   "outputs": [
    {
     "name": "stderr",
     "output_type": "stream",
     "text": [
      "Warning message:\n",
      "“Expecting date in E8002 / R8002C5: got '###############################################################################################################################################################################################################################################################'”\n",
      "Warning message:\n",
      "“Expecting date in E112544 / R112544C5: got '###############################################################################################################################################################################################################################################################'”\n",
      "Warning message:\n",
      "“Expecting date in E211334 / R211334C5: got '###############################################################################################################################################################################################################################################################'”\n",
      "Warning message:\n",
      "“Expecting date in E262294 / R262294C5: got '###############################################################################################################################################################################################################################################################'”\n",
      "Warning message:\n",
      "“Expecting date in E541764 / R541764C5: got '###############################################################################################################################################################################################################################################################'”\n",
      "Warning message:\n",
      "“Expecting date in E611754 / R611754C5: got '###############################################################################################################################################################################################################################################################'”\n",
      "Warning message:\n",
      "“Expecting date in E611756 / R611756C5: got '###############################################################################################################################################################################################################################################################'”\n",
      "Warning message:\n",
      "“Expecting date in E611761 / R611761C5: got '###############################################################################################################################################################################################################################################################'”\n",
      "Warning message:\n",
      "“Expecting date in E670751 / R670751C5: got '###############################################################################################################################################################################################################################################################'”\n",
      "Warning message:\n",
      "“Expecting date in E672070 / R672070C5: got '###############################################################################################################################################################################################################################################################'”\n",
      "Warning message:\n",
      "“Expecting date in E672105 / R672105C5: got '###############################################################################################################################################################################################################################################################'”\n",
      "Warning message:\n",
      "“Expecting date in E672148 / R672148C5: got '###############################################################################################################################################################################################################################################################'”\n",
      "Warning message:\n",
      "“Expecting date in E672167 / R672167C5: got '###############################################################################################################################################################################################################################################################'”\n",
      "Warning message:\n",
      "“Expecting date in E672197 / R672197C5: got '###############################################################################################################################################################################################################################################################'”\n",
      "Warning message:\n",
      "“Expecting date in E672365 / R672365C5: got '###############################################################################################################################################################################################################################################################'”\n",
      "Warning message in read_fun(path = path, sheet_i = sheet, limits = limits, shim = shim, :\n",
      "“NA inserted for an unsupported date prior to 1900”\n"
     ]
    }
   ],
   "source": [
    "# Importing Data\n",
    "\n",
    "M202204<-read_excel(\"../input/cyclistic-trip-data/202204_tripdata.xlsx\")\n",
    "M202205<-read_excel(\"../input/cyclistic-trip-data/202205-tripdata.xlsx\")\n",
    "M202206<-read_excel(\"../input/cyclistic-trip-data/202206-tripdata.xlsx\")\n",
    "M202207<-read_excel(\"../input/cyclistic-trip-data/202207-tripdata.xlsx\")\n",
    "M202208<-read_excel(\"../input/cyclistic-trip-data/202208-tripdata.xlsx\")\n",
    "M202209<-read_excel(\"../input/cyclistic-trip-data/202209-tripdata.xlsx\")\n",
    "M202210<-read_excel(\"../input/cyclistic-trip-data/202210-tripdata.xlsx\")\n",
    "M202211<-read_excel(\"../input/cyclistic-trip-data/202211_tripdata.xlsx\")\n",
    "M202212<-read_excel(\"../input/cyclistic-trip-data/202212_tripdata.xlsx\")\n",
    "M202301<-read_excel(\"../input/cyclistic-trip-data/202301_tripdata.xlsx\")\n",
    "M202302<-read_excel(\"../input/cyclistic-trip-data/202302_tripdata.xlsx\")\n",
    "M202303<-read_excel(\"../input/cyclistic-trip-data/202303_tripdata.xlsx\")"
   ]
  },
  {
   "cell_type": "markdown",
   "id": "a410abd4",
   "metadata": {
    "papermill": {
     "duration": 0.008222,
     "end_time": "2023-04-28T17:05:53.139167",
     "exception": false,
     "start_time": "2023-04-28T17:05:53.130945",
     "status": "completed"
    },
    "tags": []
   },
   "source": [
    "# **Wrangle Data and Combine into a Single File**\n",
    "\n",
    "The Start station Id, End station Id, Start Station Latitude and Logitude and End station Latitude and Longitude columns and whitespace were removed from each file of the original data using spread sheet as those were not used for this analysis.\n",
    "Ride length and day of the week columns were added and calculations were done for initial analysis of each file using spreadsheet"
   ]
  },
  {
   "cell_type": "code",
   "execution_count": 3,
   "id": "19e060ee",
   "metadata": {
    "execution": {
     "iopub.execute_input": "2023-04-28T17:05:53.159406Z",
     "iopub.status.busy": "2023-04-28T17:05:53.157745Z",
     "iopub.status.idle": "2023-04-28T17:05:53.726845Z",
     "shell.execute_reply": "2023-04-28T17:05:53.725056Z"
    },
    "papermill": {
     "duration": 0.581961,
     "end_time": "2023-04-28T17:05:53.729321",
     "exception": false,
     "start_time": "2023-04-28T17:05:53.147360",
     "status": "completed"
    },
    "tags": []
   },
   "outputs": [
    {
     "data": {
      "text/html": [
       "<style>\n",
       ".list-inline {list-style: none; margin:0; padding: 0}\n",
       ".list-inline>li {display: inline-block}\n",
       ".list-inline>li:not(:last-child)::after {content: \"\\00b7\"; padding: 0 .5ex}\n",
       "</style>\n",
       "<ol class=list-inline><li>'ride_id'</li><li>'rideable_type'</li><li>'started_at'</li><li>'ended_at'</li><li>'ride_length'</li><li>'day_of_the_week'</li><li>'start_station_name'</li><li>'end_station_name'</li><li>'member_casual'</li></ol>\n"
      ],
      "text/latex": [
       "\\begin{enumerate*}\n",
       "\\item 'ride\\_id'\n",
       "\\item 'rideable\\_type'\n",
       "\\item 'started\\_at'\n",
       "\\item 'ended\\_at'\n",
       "\\item 'ride\\_length'\n",
       "\\item 'day\\_of\\_the\\_week'\n",
       "\\item 'start\\_station\\_name'\n",
       "\\item 'end\\_station\\_name'\n",
       "\\item 'member\\_casual'\n",
       "\\end{enumerate*}\n"
      ],
      "text/markdown": [
       "1. 'ride_id'\n",
       "2. 'rideable_type'\n",
       "3. 'started_at'\n",
       "4. 'ended_at'\n",
       "5. 'ride_length'\n",
       "6. 'day_of_the_week'\n",
       "7. 'start_station_name'\n",
       "8. 'end_station_name'\n",
       "9. 'member_casual'\n",
       "\n",
       "\n"
      ],
      "text/plain": [
       "[1] \"ride_id\"            \"rideable_type\"      \"started_at\"        \n",
       "[4] \"ended_at\"           \"ride_length\"        \"day_of_the_week\"   \n",
       "[7] \"start_station_name\" \"end_station_name\"   \"member_casual\"     "
      ]
     },
     "metadata": {},
     "output_type": "display_data"
    },
    {
     "data": {
      "text/html": [
       "<style>\n",
       ".list-inline {list-style: none; margin:0; padding: 0}\n",
       ".list-inline>li {display: inline-block}\n",
       ".list-inline>li:not(:last-child)::after {content: \"\\00b7\"; padding: 0 .5ex}\n",
       "</style>\n",
       "<ol class=list-inline><li>'ride_id'</li><li>'rideable_type'</li><li>'started_at'</li><li>'ended_at'</li><li>'ride_length'</li><li>'day_of_the_week'</li><li>'start_station_name'</li><li>'end_station_name'</li><li>'member_casual'</li></ol>\n"
      ],
      "text/latex": [
       "\\begin{enumerate*}\n",
       "\\item 'ride\\_id'\n",
       "\\item 'rideable\\_type'\n",
       "\\item 'started\\_at'\n",
       "\\item 'ended\\_at'\n",
       "\\item 'ride\\_length'\n",
       "\\item 'day\\_of\\_the\\_week'\n",
       "\\item 'start\\_station\\_name'\n",
       "\\item 'end\\_station\\_name'\n",
       "\\item 'member\\_casual'\n",
       "\\end{enumerate*}\n"
      ],
      "text/markdown": [
       "1. 'ride_id'\n",
       "2. 'rideable_type'\n",
       "3. 'started_at'\n",
       "4. 'ended_at'\n",
       "5. 'ride_length'\n",
       "6. 'day_of_the_week'\n",
       "7. 'start_station_name'\n",
       "8. 'end_station_name'\n",
       "9. 'member_casual'\n",
       "\n",
       "\n"
      ],
      "text/plain": [
       "[1] \"ride_id\"            \"rideable_type\"      \"started_at\"        \n",
       "[4] \"ended_at\"           \"ride_length\"        \"day_of_the_week\"   \n",
       "[7] \"start_station_name\" \"end_station_name\"   \"member_casual\"     "
      ]
     },
     "metadata": {},
     "output_type": "display_data"
    },
    {
     "data": {
      "text/html": [
       "<style>\n",
       ".list-inline {list-style: none; margin:0; padding: 0}\n",
       ".list-inline>li {display: inline-block}\n",
       ".list-inline>li:not(:last-child)::after {content: \"\\00b7\"; padding: 0 .5ex}\n",
       "</style>\n",
       "<ol class=list-inline><li>'ride_id'</li><li>'rideable_type'</li><li>'started_at'</li><li>'ended_at'</li><li>'ride_length'</li><li>'day_of_the_week'</li><li>'start_station_name'</li><li>'end_station_name'</li><li>'member_casual'</li></ol>\n"
      ],
      "text/latex": [
       "\\begin{enumerate*}\n",
       "\\item 'ride\\_id'\n",
       "\\item 'rideable\\_type'\n",
       "\\item 'started\\_at'\n",
       "\\item 'ended\\_at'\n",
       "\\item 'ride\\_length'\n",
       "\\item 'day\\_of\\_the\\_week'\n",
       "\\item 'start\\_station\\_name'\n",
       "\\item 'end\\_station\\_name'\n",
       "\\item 'member\\_casual'\n",
       "\\end{enumerate*}\n"
      ],
      "text/markdown": [
       "1. 'ride_id'\n",
       "2. 'rideable_type'\n",
       "3. 'started_at'\n",
       "4. 'ended_at'\n",
       "5. 'ride_length'\n",
       "6. 'day_of_the_week'\n",
       "7. 'start_station_name'\n",
       "8. 'end_station_name'\n",
       "9. 'member_casual'\n",
       "\n",
       "\n"
      ],
      "text/plain": [
       "[1] \"ride_id\"            \"rideable_type\"      \"started_at\"        \n",
       "[4] \"ended_at\"           \"ride_length\"        \"day_of_the_week\"   \n",
       "[7] \"start_station_name\" \"end_station_name\"   \"member_casual\"     "
      ]
     },
     "metadata": {},
     "output_type": "display_data"
    },
    {
     "data": {
      "text/html": [
       "<style>\n",
       ".list-inline {list-style: none; margin:0; padding: 0}\n",
       ".list-inline>li {display: inline-block}\n",
       ".list-inline>li:not(:last-child)::after {content: \"\\00b7\"; padding: 0 .5ex}\n",
       "</style>\n",
       "<ol class=list-inline><li>'ride_id'</li><li>'rideable_type'</li><li>'started_at'</li><li>'ended_at'</li><li>'ride_length'</li><li>'day_of_the_week'</li><li>'start_station_name'</li><li>'end_station_name'</li><li>'member_casual'</li></ol>\n"
      ],
      "text/latex": [
       "\\begin{enumerate*}\n",
       "\\item 'ride\\_id'\n",
       "\\item 'rideable\\_type'\n",
       "\\item 'started\\_at'\n",
       "\\item 'ended\\_at'\n",
       "\\item 'ride\\_length'\n",
       "\\item 'day\\_of\\_the\\_week'\n",
       "\\item 'start\\_station\\_name'\n",
       "\\item 'end\\_station\\_name'\n",
       "\\item 'member\\_casual'\n",
       "\\end{enumerate*}\n"
      ],
      "text/markdown": [
       "1. 'ride_id'\n",
       "2. 'rideable_type'\n",
       "3. 'started_at'\n",
       "4. 'ended_at'\n",
       "5. 'ride_length'\n",
       "6. 'day_of_the_week'\n",
       "7. 'start_station_name'\n",
       "8. 'end_station_name'\n",
       "9. 'member_casual'\n",
       "\n",
       "\n"
      ],
      "text/plain": [
       "[1] \"ride_id\"            \"rideable_type\"      \"started_at\"        \n",
       "[4] \"ended_at\"           \"ride_length\"        \"day_of_the_week\"   \n",
       "[7] \"start_station_name\" \"end_station_name\"   \"member_casual\"     "
      ]
     },
     "metadata": {},
     "output_type": "display_data"
    },
    {
     "data": {
      "text/html": [
       "<style>\n",
       ".list-inline {list-style: none; margin:0; padding: 0}\n",
       ".list-inline>li {display: inline-block}\n",
       ".list-inline>li:not(:last-child)::after {content: \"\\00b7\"; padding: 0 .5ex}\n",
       "</style>\n",
       "<ol class=list-inline><li>'ride_id'</li><li>'rideable_type'</li><li>'started_at'</li><li>'ended_at'</li><li>'ride_length'</li><li>'day_of_the_week'</li><li>'start_station_name'</li><li>'end_station_name'</li><li>'member_casual'</li></ol>\n"
      ],
      "text/latex": [
       "\\begin{enumerate*}\n",
       "\\item 'ride\\_id'\n",
       "\\item 'rideable\\_type'\n",
       "\\item 'started\\_at'\n",
       "\\item 'ended\\_at'\n",
       "\\item 'ride\\_length'\n",
       "\\item 'day\\_of\\_the\\_week'\n",
       "\\item 'start\\_station\\_name'\n",
       "\\item 'end\\_station\\_name'\n",
       "\\item 'member\\_casual'\n",
       "\\end{enumerate*}\n"
      ],
      "text/markdown": [
       "1. 'ride_id'\n",
       "2. 'rideable_type'\n",
       "3. 'started_at'\n",
       "4. 'ended_at'\n",
       "5. 'ride_length'\n",
       "6. 'day_of_the_week'\n",
       "7. 'start_station_name'\n",
       "8. 'end_station_name'\n",
       "9. 'member_casual'\n",
       "\n",
       "\n"
      ],
      "text/plain": [
       "[1] \"ride_id\"            \"rideable_type\"      \"started_at\"        \n",
       "[4] \"ended_at\"           \"ride_length\"        \"day_of_the_week\"   \n",
       "[7] \"start_station_name\" \"end_station_name\"   \"member_casual\"     "
      ]
     },
     "metadata": {},
     "output_type": "display_data"
    },
    {
     "data": {
      "text/html": [
       "<style>\n",
       ".list-inline {list-style: none; margin:0; padding: 0}\n",
       ".list-inline>li {display: inline-block}\n",
       ".list-inline>li:not(:last-child)::after {content: \"\\00b7\"; padding: 0 .5ex}\n",
       "</style>\n",
       "<ol class=list-inline><li>'ride_id'</li><li>'rideable_type'</li><li>'started_at'</li><li>'ended_at'</li><li>'ride_length'</li><li>'day_of_the_week'</li><li>'start_station_name'</li><li>'end_station_name'</li><li>'member_casual'</li></ol>\n"
      ],
      "text/latex": [
       "\\begin{enumerate*}\n",
       "\\item 'ride\\_id'\n",
       "\\item 'rideable\\_type'\n",
       "\\item 'started\\_at'\n",
       "\\item 'ended\\_at'\n",
       "\\item 'ride\\_length'\n",
       "\\item 'day\\_of\\_the\\_week'\n",
       "\\item 'start\\_station\\_name'\n",
       "\\item 'end\\_station\\_name'\n",
       "\\item 'member\\_casual'\n",
       "\\end{enumerate*}\n"
      ],
      "text/markdown": [
       "1. 'ride_id'\n",
       "2. 'rideable_type'\n",
       "3. 'started_at'\n",
       "4. 'ended_at'\n",
       "5. 'ride_length'\n",
       "6. 'day_of_the_week'\n",
       "7. 'start_station_name'\n",
       "8. 'end_station_name'\n",
       "9. 'member_casual'\n",
       "\n",
       "\n"
      ],
      "text/plain": [
       "[1] \"ride_id\"            \"rideable_type\"      \"started_at\"        \n",
       "[4] \"ended_at\"           \"ride_length\"        \"day_of_the_week\"   \n",
       "[7] \"start_station_name\" \"end_station_name\"   \"member_casual\"     "
      ]
     },
     "metadata": {},
     "output_type": "display_data"
    },
    {
     "data": {
      "text/html": [
       "<style>\n",
       ".list-inline {list-style: none; margin:0; padding: 0}\n",
       ".list-inline>li {display: inline-block}\n",
       ".list-inline>li:not(:last-child)::after {content: \"\\00b7\"; padding: 0 .5ex}\n",
       "</style>\n",
       "<ol class=list-inline><li>'ride_id'</li><li>'rideable_type'</li><li>'started_at'</li><li>'ended_at'</li><li>'ride_length'</li><li>'day_of_the_week'</li><li>'start_station_name'</li><li>'end_station_name'</li><li>'member_casual'</li></ol>\n"
      ],
      "text/latex": [
       "\\begin{enumerate*}\n",
       "\\item 'ride\\_id'\n",
       "\\item 'rideable\\_type'\n",
       "\\item 'started\\_at'\n",
       "\\item 'ended\\_at'\n",
       "\\item 'ride\\_length'\n",
       "\\item 'day\\_of\\_the\\_week'\n",
       "\\item 'start\\_station\\_name'\n",
       "\\item 'end\\_station\\_name'\n",
       "\\item 'member\\_casual'\n",
       "\\end{enumerate*}\n"
      ],
      "text/markdown": [
       "1. 'ride_id'\n",
       "2. 'rideable_type'\n",
       "3. 'started_at'\n",
       "4. 'ended_at'\n",
       "5. 'ride_length'\n",
       "6. 'day_of_the_week'\n",
       "7. 'start_station_name'\n",
       "8. 'end_station_name'\n",
       "9. 'member_casual'\n",
       "\n",
       "\n"
      ],
      "text/plain": [
       "[1] \"ride_id\"            \"rideable_type\"      \"started_at\"        \n",
       "[4] \"ended_at\"           \"ride_length\"        \"day_of_the_week\"   \n",
       "[7] \"start_station_name\" \"end_station_name\"   \"member_casual\"     "
      ]
     },
     "metadata": {},
     "output_type": "display_data"
    },
    {
     "data": {
      "text/html": [
       "<style>\n",
       ".list-inline {list-style: none; margin:0; padding: 0}\n",
       ".list-inline>li {display: inline-block}\n",
       ".list-inline>li:not(:last-child)::after {content: \"\\00b7\"; padding: 0 .5ex}\n",
       "</style>\n",
       "<ol class=list-inline><li>'ride_id'</li><li>'rideable_type'</li><li>'started_at'</li><li>'ended_at'</li><li>'ride_length'</li><li>'day_of_the_week'</li><li>'start_station_name'</li><li>'end_station_name'</li><li>'member_casual'</li></ol>\n"
      ],
      "text/latex": [
       "\\begin{enumerate*}\n",
       "\\item 'ride\\_id'\n",
       "\\item 'rideable\\_type'\n",
       "\\item 'started\\_at'\n",
       "\\item 'ended\\_at'\n",
       "\\item 'ride\\_length'\n",
       "\\item 'day\\_of\\_the\\_week'\n",
       "\\item 'start\\_station\\_name'\n",
       "\\item 'end\\_station\\_name'\n",
       "\\item 'member\\_casual'\n",
       "\\end{enumerate*}\n"
      ],
      "text/markdown": [
       "1. 'ride_id'\n",
       "2. 'rideable_type'\n",
       "3. 'started_at'\n",
       "4. 'ended_at'\n",
       "5. 'ride_length'\n",
       "6. 'day_of_the_week'\n",
       "7. 'start_station_name'\n",
       "8. 'end_station_name'\n",
       "9. 'member_casual'\n",
       "\n",
       "\n"
      ],
      "text/plain": [
       "[1] \"ride_id\"            \"rideable_type\"      \"started_at\"        \n",
       "[4] \"ended_at\"           \"ride_length\"        \"day_of_the_week\"   \n",
       "[7] \"start_station_name\" \"end_station_name\"   \"member_casual\"     "
      ]
     },
     "metadata": {},
     "output_type": "display_data"
    },
    {
     "data": {
      "text/html": [
       "<style>\n",
       ".list-inline {list-style: none; margin:0; padding: 0}\n",
       ".list-inline>li {display: inline-block}\n",
       ".list-inline>li:not(:last-child)::after {content: \"\\00b7\"; padding: 0 .5ex}\n",
       "</style>\n",
       "<ol class=list-inline><li>'ride_id'</li><li>'rideable_type'</li><li>'started_at'</li><li>'ended_at'</li><li>'ride_length'</li><li>'day_of_the_week'</li><li>'start_station_name'</li><li>'end_station_name'</li><li>'member_casual'</li></ol>\n"
      ],
      "text/latex": [
       "\\begin{enumerate*}\n",
       "\\item 'ride\\_id'\n",
       "\\item 'rideable\\_type'\n",
       "\\item 'started\\_at'\n",
       "\\item 'ended\\_at'\n",
       "\\item 'ride\\_length'\n",
       "\\item 'day\\_of\\_the\\_week'\n",
       "\\item 'start\\_station\\_name'\n",
       "\\item 'end\\_station\\_name'\n",
       "\\item 'member\\_casual'\n",
       "\\end{enumerate*}\n"
      ],
      "text/markdown": [
       "1. 'ride_id'\n",
       "2. 'rideable_type'\n",
       "3. 'started_at'\n",
       "4. 'ended_at'\n",
       "5. 'ride_length'\n",
       "6. 'day_of_the_week'\n",
       "7. 'start_station_name'\n",
       "8. 'end_station_name'\n",
       "9. 'member_casual'\n",
       "\n",
       "\n"
      ],
      "text/plain": [
       "[1] \"ride_id\"            \"rideable_type\"      \"started_at\"        \n",
       "[4] \"ended_at\"           \"ride_length\"        \"day_of_the_week\"   \n",
       "[7] \"start_station_name\" \"end_station_name\"   \"member_casual\"     "
      ]
     },
     "metadata": {},
     "output_type": "display_data"
    },
    {
     "data": {
      "text/html": [
       "<style>\n",
       ".list-inline {list-style: none; margin:0; padding: 0}\n",
       ".list-inline>li {display: inline-block}\n",
       ".list-inline>li:not(:last-child)::after {content: \"\\00b7\"; padding: 0 .5ex}\n",
       "</style>\n",
       "<ol class=list-inline><li>'ride_id'</li><li>'rideable_type'</li><li>'started_at'</li><li>'ended_at'</li><li>'ride_length'</li><li>'day_of_the_week'</li><li>'start_station_name'</li><li>'end_station_name'</li><li>'member_casual'</li></ol>\n"
      ],
      "text/latex": [
       "\\begin{enumerate*}\n",
       "\\item 'ride\\_id'\n",
       "\\item 'rideable\\_type'\n",
       "\\item 'started\\_at'\n",
       "\\item 'ended\\_at'\n",
       "\\item 'ride\\_length'\n",
       "\\item 'day\\_of\\_the\\_week'\n",
       "\\item 'start\\_station\\_name'\n",
       "\\item 'end\\_station\\_name'\n",
       "\\item 'member\\_casual'\n",
       "\\end{enumerate*}\n"
      ],
      "text/markdown": [
       "1. 'ride_id'\n",
       "2. 'rideable_type'\n",
       "3. 'started_at'\n",
       "4. 'ended_at'\n",
       "5. 'ride_length'\n",
       "6. 'day_of_the_week'\n",
       "7. 'start_station_name'\n",
       "8. 'end_station_name'\n",
       "9. 'member_casual'\n",
       "\n",
       "\n"
      ],
      "text/plain": [
       "[1] \"ride_id\"            \"rideable_type\"      \"started_at\"        \n",
       "[4] \"ended_at\"           \"ride_length\"        \"day_of_the_week\"   \n",
       "[7] \"start_station_name\" \"end_station_name\"   \"member_casual\"     "
      ]
     },
     "metadata": {},
     "output_type": "display_data"
    },
    {
     "data": {
      "text/html": [
       "<style>\n",
       ".list-inline {list-style: none; margin:0; padding: 0}\n",
       ".list-inline>li {display: inline-block}\n",
       ".list-inline>li:not(:last-child)::after {content: \"\\00b7\"; padding: 0 .5ex}\n",
       "</style>\n",
       "<ol class=list-inline><li>'ride_id'</li><li>'rideable_type'</li><li>'started_at'</li><li>'ended_at'</li><li>'ride_length'</li><li>'day_of_the_week'</li><li>'start_station_name'</li><li>'end_station_name'</li><li>'member_casual'</li></ol>\n"
      ],
      "text/latex": [
       "\\begin{enumerate*}\n",
       "\\item 'ride\\_id'\n",
       "\\item 'rideable\\_type'\n",
       "\\item 'started\\_at'\n",
       "\\item 'ended\\_at'\n",
       "\\item 'ride\\_length'\n",
       "\\item 'day\\_of\\_the\\_week'\n",
       "\\item 'start\\_station\\_name'\n",
       "\\item 'end\\_station\\_name'\n",
       "\\item 'member\\_casual'\n",
       "\\end{enumerate*}\n"
      ],
      "text/markdown": [
       "1. 'ride_id'\n",
       "2. 'rideable_type'\n",
       "3. 'started_at'\n",
       "4. 'ended_at'\n",
       "5. 'ride_length'\n",
       "6. 'day_of_the_week'\n",
       "7. 'start_station_name'\n",
       "8. 'end_station_name'\n",
       "9. 'member_casual'\n",
       "\n",
       "\n"
      ],
      "text/plain": [
       "[1] \"ride_id\"            \"rideable_type\"      \"started_at\"        \n",
       "[4] \"ended_at\"           \"ride_length\"        \"day_of_the_week\"   \n",
       "[7] \"start_station_name\" \"end_station_name\"   \"member_casual\"     "
      ]
     },
     "metadata": {},
     "output_type": "display_data"
    },
    {
     "data": {
      "text/html": [
       "<style>\n",
       ".list-inline {list-style: none; margin:0; padding: 0}\n",
       ".list-inline>li {display: inline-block}\n",
       ".list-inline>li:not(:last-child)::after {content: \"\\00b7\"; padding: 0 .5ex}\n",
       "</style>\n",
       "<ol class=list-inline><li>'ride_id'</li><li>'rideable_type'</li><li>'started_at'</li><li>'ended_at'</li><li>'ride_length'</li><li>'day_of_the_week'</li><li>'start_station_name'</li><li>'end_station_name'</li><li>'member_casual'</li></ol>\n"
      ],
      "text/latex": [
       "\\begin{enumerate*}\n",
       "\\item 'ride\\_id'\n",
       "\\item 'rideable\\_type'\n",
       "\\item 'started\\_at'\n",
       "\\item 'ended\\_at'\n",
       "\\item 'ride\\_length'\n",
       "\\item 'day\\_of\\_the\\_week'\n",
       "\\item 'start\\_station\\_name'\n",
       "\\item 'end\\_station\\_name'\n",
       "\\item 'member\\_casual'\n",
       "\\end{enumerate*}\n"
      ],
      "text/markdown": [
       "1. 'ride_id'\n",
       "2. 'rideable_type'\n",
       "3. 'started_at'\n",
       "4. 'ended_at'\n",
       "5. 'ride_length'\n",
       "6. 'day_of_the_week'\n",
       "7. 'start_station_name'\n",
       "8. 'end_station_name'\n",
       "9. 'member_casual'\n",
       "\n",
       "\n"
      ],
      "text/plain": [
       "[1] \"ride_id\"            \"rideable_type\"      \"started_at\"        \n",
       "[4] \"ended_at\"           \"ride_length\"        \"day_of_the_week\"   \n",
       "[7] \"start_station_name\" \"end_station_name\"   \"member_casual\"     "
      ]
     },
     "metadata": {},
     "output_type": "display_data"
    }
   ],
   "source": [
    "# Comparing column names of each file for consistency\n",
    "\n",
    "colnames(M202204)\n",
    "colnames(M202205)\n",
    "colnames(M202206)\n",
    "colnames(M202207)\n",
    "colnames(M202208)\n",
    "colnames(M202209)\n",
    "colnames(M202210)\n",
    "colnames(M202211)\n",
    "colnames(M202212)\n",
    "colnames(M202301)\n",
    "colnames(M202302)\n",
    "colnames(M202303)"
   ]
  },
  {
   "cell_type": "markdown",
   "id": "4ccdb92d",
   "metadata": {
    "papermill": {
     "duration": 0.011033,
     "end_time": "2023-04-28T17:05:53.750730",
     "exception": false,
     "start_time": "2023-04-28T17:05:53.739697",
     "status": "completed"
    },
    "tags": []
   },
   "source": [
    "* All column names were found to be consistent"
   ]
  },
  {
   "cell_type": "code",
   "execution_count": 4,
   "id": "cacd17fb",
   "metadata": {
    "execution": {
     "iopub.execute_input": "2023-04-28T17:05:53.776256Z",
     "iopub.status.busy": "2023-04-28T17:05:53.774268Z",
     "iopub.status.idle": "2023-04-28T17:05:56.304093Z",
     "shell.execute_reply": "2023-04-28T17:05:56.302009Z"
    },
    "papermill": {
     "duration": 2.545606,
     "end_time": "2023-04-28T17:05:56.306746",
     "exception": false,
     "start_time": "2023-04-28T17:05:53.761140",
     "status": "completed"
    },
    "tags": []
   },
   "outputs": [],
   "source": [
    "# Combining all the files into single file\n",
    "\n",
    "all_trips <- bind_rows(M202204, M202205, M202206, M202207, M202208, M202209, M202210,M202211, M202212, M202301, M202302, M202303)"
   ]
  },
  {
   "cell_type": "markdown",
   "id": "f7c77801",
   "metadata": {
    "papermill": {
     "duration": 0.011191,
     "end_time": "2023-04-28T17:05:56.328842",
     "exception": false,
     "start_time": "2023-04-28T17:05:56.317651",
     "status": "completed"
    },
    "tags": []
   },
   "source": [
    "# **Preparing Data for Anlaysis**"
   ]
  },
  {
   "cell_type": "code",
   "execution_count": 5,
   "id": "c4de507d",
   "metadata": {
    "execution": {
     "iopub.execute_input": "2023-04-28T17:05:56.353278Z",
     "iopub.status.busy": "2023-04-28T17:05:56.351702Z",
     "iopub.status.idle": "2023-04-28T17:06:01.984357Z",
     "shell.execute_reply": "2023-04-28T17:06:01.982536Z"
    },
    "papermill": {
     "duration": 5.647697,
     "end_time": "2023-04-28T17:06:01.987004",
     "exception": false,
     "start_time": "2023-04-28T17:05:56.339307",
     "status": "completed"
    },
    "tags": []
   },
   "outputs": [
    {
     "data": {
      "text/html": [
       "<style>\n",
       ".list-inline {list-style: none; margin:0; padding: 0}\n",
       ".list-inline>li {display: inline-block}\n",
       ".list-inline>li:not(:last-child)::after {content: \"\\00b7\"; padding: 0 .5ex}\n",
       "</style>\n",
       "<ol class=list-inline><li>'ride_id'</li><li>'rideable_type'</li><li>'started_at'</li><li>'ended_at'</li><li>'ride_length'</li><li>'day_of_the_week'</li><li>'start_station_name'</li><li>'end_station_name'</li><li>'member_casual'</li></ol>\n"
      ],
      "text/latex": [
       "\\begin{enumerate*}\n",
       "\\item 'ride\\_id'\n",
       "\\item 'rideable\\_type'\n",
       "\\item 'started\\_at'\n",
       "\\item 'ended\\_at'\n",
       "\\item 'ride\\_length'\n",
       "\\item 'day\\_of\\_the\\_week'\n",
       "\\item 'start\\_station\\_name'\n",
       "\\item 'end\\_station\\_name'\n",
       "\\item 'member\\_casual'\n",
       "\\end{enumerate*}\n"
      ],
      "text/markdown": [
       "1. 'ride_id'\n",
       "2. 'rideable_type'\n",
       "3. 'started_at'\n",
       "4. 'ended_at'\n",
       "5. 'ride_length'\n",
       "6. 'day_of_the_week'\n",
       "7. 'start_station_name'\n",
       "8. 'end_station_name'\n",
       "9. 'member_casual'\n",
       "\n",
       "\n"
      ],
      "text/plain": [
       "[1] \"ride_id\"            \"rideable_type\"      \"started_at\"        \n",
       "[4] \"ended_at\"           \"ride_length\"        \"day_of_the_week\"   \n",
       "[7] \"start_station_name\" \"end_station_name\"   \"member_casual\"     "
      ]
     },
     "metadata": {},
     "output_type": "display_data"
    },
    {
     "data": {
      "text/html": [
       "5803720"
      ],
      "text/latex": [
       "5803720"
      ],
      "text/markdown": [
       "5803720"
      ],
      "text/plain": [
       "[1] 5803720"
      ]
     },
     "metadata": {},
     "output_type": "display_data"
    },
    {
     "data": {
      "text/html": [
       "<style>\n",
       ".list-inline {list-style: none; margin:0; padding: 0}\n",
       ".list-inline>li {display: inline-block}\n",
       ".list-inline>li:not(:last-child)::after {content: \"\\00b7\"; padding: 0 .5ex}\n",
       "</style>\n",
       "<ol class=list-inline><li>5803720</li><li>9</li></ol>\n"
      ],
      "text/latex": [
       "\\begin{enumerate*}\n",
       "\\item 5803720\n",
       "\\item 9\n",
       "\\end{enumerate*}\n"
      ],
      "text/markdown": [
       "1. 5803720\n",
       "2. 9\n",
       "\n",
       "\n"
      ],
      "text/plain": [
       "[1] 5803720       9"
      ]
     },
     "metadata": {},
     "output_type": "display_data"
    },
    {
     "data": {
      "text/html": [
       "<table class=\"dataframe\">\n",
       "<caption>A tibble: 6 × 9</caption>\n",
       "<thead>\n",
       "\t<tr><th scope=col>ride_id</th><th scope=col>rideable_type</th><th scope=col>started_at</th><th scope=col>ended_at</th><th scope=col>ride_length</th><th scope=col>day_of_the_week</th><th scope=col>start_station_name</th><th scope=col>end_station_name</th><th scope=col>member_casual</th></tr>\n",
       "\t<tr><th scope=col>&lt;chr&gt;</th><th scope=col>&lt;chr&gt;</th><th scope=col>&lt;dttm&gt;</th><th scope=col>&lt;dttm&gt;</th><th scope=col>&lt;dttm&gt;</th><th scope=col>&lt;dbl&gt;</th><th scope=col>&lt;chr&gt;</th><th scope=col>&lt;chr&gt;</th><th scope=col>&lt;chr&gt;</th></tr>\n",
       "</thead>\n",
       "<tbody>\n",
       "\t<tr><td>3564070EEFD12711</td><td>electric_bike</td><td>2022-04-06 17:42:48</td><td>2022-04-06 17:54:36</td><td>1899-12-31 00:11:48</td><td>4</td><td><span style=white-space:pre-wrap>Paulina St &amp; Howard St     </span></td><td>University Library (NU) </td><td>member</td></tr>\n",
       "\t<tr><td>0B820C7FCF22F489</td><td>classic_bike </td><td>2022-04-24 19:23:07</td><td>2022-04-24 19:43:17</td><td>1899-12-31 00:20:10</td><td>1</td><td><span style=white-space:pre-wrap>Wentworth Ave &amp; Cermak Rd  </span></td><td><span style=white-space:pre-wrap>Green St &amp; Madison St   </span></td><td>member</td></tr>\n",
       "\t<tr><td>89EEEE32293F07FF</td><td>classic_bike </td><td>2022-04-20 19:29:08</td><td>2022-04-20 19:35:16</td><td>1899-12-31 00:06:08</td><td>4</td><td><span style=white-space:pre-wrap>Halsted St &amp; Polk St       </span></td><td><span style=white-space:pre-wrap>Green St &amp; Madison St   </span></td><td>member</td></tr>\n",
       "\t<tr><td>84D4751AEB31888D</td><td>classic_bike </td><td>2022-04-22 21:14:06</td><td>2022-04-22 21:23:29</td><td>1899-12-31 00:09:23</td><td>6</td><td><span style=white-space:pre-wrap>Wentworth Ave &amp; Cermak Rd  </span></td><td>Delano Ct &amp; Roosevelt Rd</td><td>casual</td></tr>\n",
       "\t<tr><td>5664BCF0D1DE7A8B</td><td>electric_bike</td><td>2022-04-16 15:56:30</td><td>2022-04-16 16:02:11</td><td>1899-12-31 00:05:41</td><td>7</td><td><span style=white-space:pre-wrap>Halsted St &amp; Polk St       </span></td><td>Clinton St &amp; Madison St </td><td>member</td></tr>\n",
       "\t<tr><td>AA9EB7BD2E1FC128</td><td>classic_bike </td><td>2022-04-21 16:52:33</td><td>2022-04-21 16:56:51</td><td>1899-12-31 00:04:18</td><td>5</td><td>Desplaines St &amp; Randolph St</td><td><span style=white-space:pre-wrap>Canal St &amp; Adams St     </span></td><td>member</td></tr>\n",
       "</tbody>\n",
       "</table>\n"
      ],
      "text/latex": [
       "A tibble: 6 × 9\n",
       "\\begin{tabular}{lllllllll}\n",
       " ride\\_id & rideable\\_type & started\\_at & ended\\_at & ride\\_length & day\\_of\\_the\\_week & start\\_station\\_name & end\\_station\\_name & member\\_casual\\\\\n",
       " <chr> & <chr> & <dttm> & <dttm> & <dttm> & <dbl> & <chr> & <chr> & <chr>\\\\\n",
       "\\hline\n",
       "\t 3564070EEFD12711 & electric\\_bike & 2022-04-06 17:42:48 & 2022-04-06 17:54:36 & 1899-12-31 00:11:48 & 4 & Paulina St \\& Howard St      & University Library (NU)  & member\\\\\n",
       "\t 0B820C7FCF22F489 & classic\\_bike  & 2022-04-24 19:23:07 & 2022-04-24 19:43:17 & 1899-12-31 00:20:10 & 1 & Wentworth Ave \\& Cermak Rd   & Green St \\& Madison St    & member\\\\\n",
       "\t 89EEEE32293F07FF & classic\\_bike  & 2022-04-20 19:29:08 & 2022-04-20 19:35:16 & 1899-12-31 00:06:08 & 4 & Halsted St \\& Polk St        & Green St \\& Madison St    & member\\\\\n",
       "\t 84D4751AEB31888D & classic\\_bike  & 2022-04-22 21:14:06 & 2022-04-22 21:23:29 & 1899-12-31 00:09:23 & 6 & Wentworth Ave \\& Cermak Rd   & Delano Ct \\& Roosevelt Rd & casual\\\\\n",
       "\t 5664BCF0D1DE7A8B & electric\\_bike & 2022-04-16 15:56:30 & 2022-04-16 16:02:11 & 1899-12-31 00:05:41 & 7 & Halsted St \\& Polk St        & Clinton St \\& Madison St  & member\\\\\n",
       "\t AA9EB7BD2E1FC128 & classic\\_bike  & 2022-04-21 16:52:33 & 2022-04-21 16:56:51 & 1899-12-31 00:04:18 & 5 & Desplaines St \\& Randolph St & Canal St \\& Adams St      & member\\\\\n",
       "\\end{tabular}\n"
      ],
      "text/markdown": [
       "\n",
       "A tibble: 6 × 9\n",
       "\n",
       "| ride_id &lt;chr&gt; | rideable_type &lt;chr&gt; | started_at &lt;dttm&gt; | ended_at &lt;dttm&gt; | ride_length &lt;dttm&gt; | day_of_the_week &lt;dbl&gt; | start_station_name &lt;chr&gt; | end_station_name &lt;chr&gt; | member_casual &lt;chr&gt; |\n",
       "|---|---|---|---|---|---|---|---|---|\n",
       "| 3564070EEFD12711 | electric_bike | 2022-04-06 17:42:48 | 2022-04-06 17:54:36 | 1899-12-31 00:11:48 | 4 | Paulina St &amp; Howard St      | University Library (NU)  | member |\n",
       "| 0B820C7FCF22F489 | classic_bike  | 2022-04-24 19:23:07 | 2022-04-24 19:43:17 | 1899-12-31 00:20:10 | 1 | Wentworth Ave &amp; Cermak Rd   | Green St &amp; Madison St    | member |\n",
       "| 89EEEE32293F07FF | classic_bike  | 2022-04-20 19:29:08 | 2022-04-20 19:35:16 | 1899-12-31 00:06:08 | 4 | Halsted St &amp; Polk St        | Green St &amp; Madison St    | member |\n",
       "| 84D4751AEB31888D | classic_bike  | 2022-04-22 21:14:06 | 2022-04-22 21:23:29 | 1899-12-31 00:09:23 | 6 | Wentworth Ave &amp; Cermak Rd   | Delano Ct &amp; Roosevelt Rd | casual |\n",
       "| 5664BCF0D1DE7A8B | electric_bike | 2022-04-16 15:56:30 | 2022-04-16 16:02:11 | 1899-12-31 00:05:41 | 7 | Halsted St &amp; Polk St        | Clinton St &amp; Madison St  | member |\n",
       "| AA9EB7BD2E1FC128 | classic_bike  | 2022-04-21 16:52:33 | 2022-04-21 16:56:51 | 1899-12-31 00:04:18 | 5 | Desplaines St &amp; Randolph St | Canal St &amp; Adams St      | member |\n",
       "\n"
      ],
      "text/plain": [
       "  ride_id          rideable_type started_at          ended_at           \n",
       "1 3564070EEFD12711 electric_bike 2022-04-06 17:42:48 2022-04-06 17:54:36\n",
       "2 0B820C7FCF22F489 classic_bike  2022-04-24 19:23:07 2022-04-24 19:43:17\n",
       "3 89EEEE32293F07FF classic_bike  2022-04-20 19:29:08 2022-04-20 19:35:16\n",
       "4 84D4751AEB31888D classic_bike  2022-04-22 21:14:06 2022-04-22 21:23:29\n",
       "5 5664BCF0D1DE7A8B electric_bike 2022-04-16 15:56:30 2022-04-16 16:02:11\n",
       "6 AA9EB7BD2E1FC128 classic_bike  2022-04-21 16:52:33 2022-04-21 16:56:51\n",
       "  ride_length         day_of_the_week start_station_name         \n",
       "1 1899-12-31 00:11:48 4               Paulina St & Howard St     \n",
       "2 1899-12-31 00:20:10 1               Wentworth Ave & Cermak Rd  \n",
       "3 1899-12-31 00:06:08 4               Halsted St & Polk St       \n",
       "4 1899-12-31 00:09:23 6               Wentworth Ave & Cermak Rd  \n",
       "5 1899-12-31 00:05:41 7               Halsted St & Polk St       \n",
       "6 1899-12-31 00:04:18 5               Desplaines St & Randolph St\n",
       "  end_station_name         member_casual\n",
       "1 University Library (NU)  member       \n",
       "2 Green St & Madison St    member       \n",
       "3 Green St & Madison St    member       \n",
       "4 Delano Ct & Roosevelt Rd casual       \n",
       "5 Clinton St & Madison St  member       \n",
       "6 Canal St & Adams St      member       "
      ]
     },
     "metadata": {},
     "output_type": "display_data"
    },
    {
     "name": "stdout",
     "output_type": "stream",
     "text": [
      "tibble [5,803,720 × 9] (S3: tbl_df/tbl/data.frame)\n",
      " $ ride_id           : chr [1:5803720] \"3564070EEFD12711\" \"0B820C7FCF22F489\" \"89EEEE32293F07FF\" \"84D4751AEB31888D\" ...\n",
      " $ rideable_type     : chr [1:5803720] \"electric_bike\" \"classic_bike\" \"classic_bike\" \"classic_bike\" ...\n",
      " $ started_at        : POSIXct[1:5803720], format: \"2022-04-06 17:42:48\" \"2022-04-24 19:23:07\" ...\n",
      " $ ended_at          : POSIXct[1:5803720], format: \"2022-04-06 17:54:36\" \"2022-04-24 19:43:17\" ...\n",
      " $ ride_length       : POSIXct[1:5803720], format: \"1899-12-31 00:11:48\" \"1899-12-31 00:20:10\" ...\n",
      " $ day_of_the_week   : num [1:5803720] 4 1 4 6 7 5 2 3 6 6 ...\n",
      " $ start_station_name: chr [1:5803720] \"Paulina St & Howard St\" \"Wentworth Ave & Cermak Rd\" \"Halsted St & Polk St\" \"Wentworth Ave & Cermak Rd\" ...\n",
      " $ end_station_name  : chr [1:5803720] \"University Library (NU)\" \"Green St & Madison St\" \"Green St & Madison St\" \"Delano Ct & Roosevelt Rd\" ...\n",
      " $ member_casual     : chr [1:5803720] \"member\" \"member\" \"member\" \"casual\" ...\n"
     ]
    },
    {
     "data": {
      "text/plain": [
       "   ride_id          rideable_type        started_at                 \n",
       " Length:5803720     Length:5803720     Min.   :2022-04-01 00:01:48  \n",
       " Class :character   Class :character   1st Qu.:2022-06-18 23:27:00  \n",
       " Mode  :character   Mode  :character   Median :2022-08-13 11:37:00  \n",
       "                                       Mean   :2022-08-25 07:04:51  \n",
       "                                       3rd Qu.:2022-10-14 18:04:21  \n",
       "                                       Max.   :2023-03-31 23:59:28  \n",
       "                                                                    \n",
       "    ended_at                    ride_length                  day_of_the_week\n",
       " Min.   :2022-04-01 00:02:15   Min.   :1899-12-30 21:11:18   Min.   :1.000  \n",
       " 1st Qu.:2022-06-18 23:51:55   1st Qu.:1899-12-31 00:05:41   1st Qu.:2.000  \n",
       " Median :2022-08-13 12:00:00   Median :1899-12-31 00:10:02   Median :4.000  \n",
       " Mean   :2022-08-25 07:23:50   Mean   :1899-12-31 00:18:58   Mean   :4.103  \n",
       " 3rd Qu.:2022-10-14 18:19:10   3rd Qu.:1899-12-31 00:18:01   3rd Qu.:6.000  \n",
       " Max.   :2023-04-03 11:41:11   Max.   :1900-01-28 17:47:15   Max.   :7.000  \n",
       "                               NA's   :16                                   \n",
       " start_station_name end_station_name   member_casual     \n",
       " Length:5803720     Length:5803720     Length:5803720    \n",
       " Class :character   Class :character   Class :character  \n",
       " Mode  :character   Mode  :character   Mode  :character  \n",
       "                                                         \n",
       "                                                         \n",
       "                                                         \n",
       "                                                         "
      ]
     },
     "metadata": {},
     "output_type": "display_data"
    }
   ],
   "source": [
    "# Inspect the new table that has been created\n",
    "colnames(all_trips)  #List of column names\n",
    "nrow(all_trips)  #How many rows are in data frame?\n",
    "dim(all_trips)  #Dimensions of the data frame?\n",
    "head(all_trips)  #See the first 6 rows of data frame.  Also tail(all_trips)\n",
    "str(all_trips)  #See list of columns and data types (numeric, character, etc)\n",
    "summary(all_trips)  #Statistical summary of data. Mainly for numerics\n",
    "\n"
   ]
  },
  {
   "cell_type": "markdown",
   "id": "bff1034e",
   "metadata": {
    "papermill": {
     "duration": 0.011934,
     "end_time": "2023-04-28T17:06:02.010588",
     "exception": false,
     "start_time": "2023-04-28T17:06:01.998654",
     "status": "completed"
    },
    "tags": []
   },
   "source": [
    "* Adding Date, Day, Month, Year columns of the ride to the file for detailed analysis"
   ]
  },
  {
   "cell_type": "code",
   "execution_count": 6,
   "id": "3360ef52",
   "metadata": {
    "execution": {
     "iopub.execute_input": "2023-04-28T17:06:02.042063Z",
     "iopub.status.busy": "2023-04-28T17:06:02.039801Z",
     "iopub.status.idle": "2023-04-28T17:06:10.534123Z",
     "shell.execute_reply": "2023-04-28T17:06:10.532357Z"
    },
    "papermill": {
     "duration": 8.513276,
     "end_time": "2023-04-28T17:06:10.536915",
     "exception": false,
     "start_time": "2023-04-28T17:06:02.023639",
     "status": "completed"
    },
    "tags": []
   },
   "outputs": [
    {
     "name": "stdout",
     "output_type": "stream",
     "text": [
      "tibble [5,803,720 × 13] (S3: tbl_df/tbl/data.frame)\n",
      " $ ride_id           : chr [1:5803720] \"3564070EEFD12711\" \"0B820C7FCF22F489\" \"89EEEE32293F07FF\" \"84D4751AEB31888D\" ...\n",
      " $ rideable_type     : chr [1:5803720] \"electric_bike\" \"classic_bike\" \"classic_bike\" \"classic_bike\" ...\n",
      " $ started_at        : POSIXct[1:5803720], format: \"2022-04-06 17:42:48\" \"2022-04-24 19:23:07\" ...\n",
      " $ ended_at          : POSIXct[1:5803720], format: \"2022-04-06 17:54:36\" \"2022-04-24 19:43:17\" ...\n",
      " $ ride_length       : POSIXct[1:5803720], format: \"1899-12-31 00:11:48\" \"1899-12-31 00:20:10\" ...\n",
      " $ day_of_the_week   : num [1:5803720] 4 1 4 6 7 5 2 3 6 6 ...\n",
      " $ start_station_name: chr [1:5803720] \"Paulina St & Howard St\" \"Wentworth Ave & Cermak Rd\" \"Halsted St & Polk St\" \"Wentworth Ave & Cermak Rd\" ...\n",
      " $ end_station_name  : chr [1:5803720] \"University Library (NU)\" \"Green St & Madison St\" \"Green St & Madison St\" \"Delano Ct & Roosevelt Rd\" ...\n",
      " $ member_casual     : chr [1:5803720] \"member\" \"member\" \"member\" \"casual\" ...\n",
      " $ date              : Date[1:5803720], format: \"2022-04-06\" \"2022-04-24\" ...\n",
      " $ month             : chr [1:5803720] \"04\" \"04\" \"04\" \"04\" ...\n",
      " $ day               : chr [1:5803720] \"06\" \"24\" \"20\" \"22\" ...\n",
      " $ year              : chr [1:5803720] \"2022\" \"2022\" \"2022\" \"2022\" ...\n"
     ]
    }
   ],
   "source": [
    "all_trips$date <- as.Date(all_trips$started_at) #The default format is yyyy-mm-dd\n",
    "all_trips$month <- format(as.Date(all_trips$date), \"%m\")\n",
    "all_trips$day <- format(as.Date(all_trips$date), \"%d\")\n",
    "all_trips$year <- format(as.Date(all_trips$date), \"%Y\")\n",
    "str(all_trips)"
   ]
  },
  {
   "cell_type": "markdown",
   "id": "3875cf30",
   "metadata": {
    "papermill": {
     "duration": 0.012929,
     "end_time": "2023-04-28T17:06:10.562016",
     "exception": false,
     "start_time": "2023-04-28T17:06:10.549087",
     "status": "completed"
    },
    "tags": []
   },
   "source": [
    "* Adding Hour, Minutes and Seconds columns of the ride."
   ]
  },
  {
   "cell_type": "code",
   "execution_count": 7,
   "id": "fb8b5c8b",
   "metadata": {
    "execution": {
     "iopub.execute_input": "2023-04-28T17:06:10.590414Z",
     "iopub.status.busy": "2023-04-28T17:06:10.588658Z",
     "iopub.status.idle": "2023-04-28T17:06:16.720910Z",
     "shell.execute_reply": "2023-04-28T17:06:16.718409Z"
    },
    "papermill": {
     "duration": 6.149717,
     "end_time": "2023-04-28T17:06:16.724257",
     "exception": false,
     "start_time": "2023-04-28T17:06:10.574540",
     "status": "completed"
    },
    "tags": []
   },
   "outputs": [
    {
     "name": "stdout",
     "output_type": "stream",
     "text": [
      "tibble [5,803,720 × 16] (S3: tbl_df/tbl/data.frame)\n",
      " $ ride_id           : chr [1:5803720] \"3564070EEFD12711\" \"0B820C7FCF22F489\" \"89EEEE32293F07FF\" \"84D4751AEB31888D\" ...\n",
      " $ rideable_type     : chr [1:5803720] \"electric_bike\" \"classic_bike\" \"classic_bike\" \"classic_bike\" ...\n",
      " $ started_at        : POSIXct[1:5803720], format: \"2022-04-06 17:42:48\" \"2022-04-24 19:23:07\" ...\n",
      " $ ended_at          : POSIXct[1:5803720], format: \"2022-04-06 17:54:36\" \"2022-04-24 19:43:17\" ...\n",
      " $ ride_length       : POSIXct[1:5803720], format: \"1899-12-31 00:11:48\" \"1899-12-31 00:20:10\" ...\n",
      " $ day_of_the_week   : num [1:5803720] 4 1 4 6 7 5 2 3 6 6 ...\n",
      " $ start_station_name: chr [1:5803720] \"Paulina St & Howard St\" \"Wentworth Ave & Cermak Rd\" \"Halsted St & Polk St\" \"Wentworth Ave & Cermak Rd\" ...\n",
      " $ end_station_name  : chr [1:5803720] \"University Library (NU)\" \"Green St & Madison St\" \"Green St & Madison St\" \"Delano Ct & Roosevelt Rd\" ...\n",
      " $ member_casual     : chr [1:5803720] \"member\" \"member\" \"member\" \"casual\" ...\n",
      " $ date              : Date[1:5803720], format: \"2022-04-06\" \"2022-04-24\" ...\n",
      " $ month             : chr [1:5803720] \"04\" \"04\" \"04\" \"04\" ...\n",
      " $ day               : chr [1:5803720] \"06\" \"24\" \"20\" \"22\" ...\n",
      " $ year              : chr [1:5803720] \"2022\" \"2022\" \"2022\" \"2022\" ...\n",
      " $ Time              : POSIXct[1:5803720], format: \"2022-04-06 17:42:48\" \"2022-04-24 19:23:07\" ...\n",
      " $ Hours             : chr [1:5803720] \"17\" \"19\" \"19\" \"21\" ...\n",
      " $ Minutes           : chr [1:5803720] \"42\" \"23\" \"29\" \"14\" ...\n"
     ]
    }
   ],
   "source": [
    "\n",
    "all_trips$Time <- as.POSIXct(all_trips$started_at)\n",
    "all_trips$Hours <- format(as.POSIXct(all_trips$Time), \"%H\")\n",
    "all_trips$Minutes <- format(as.POSIXct(all_trips$Time), \"%M\") \n",
    "str(all_trips)"
   ]
  },
  {
   "cell_type": "markdown",
   "id": "8ac1f8e3",
   "metadata": {
    "papermill": {
     "duration": 0.01198,
     "end_time": "2023-04-28T17:06:16.748156",
     "exception": false,
     "start_time": "2023-04-28T17:06:16.736176",
     "status": "completed"
    },
    "tags": []
   },
   "source": [
    "* Adding ride length column to calculate the length of each ride in seconds.\n",
    "* Adding a day of the week column."
   ]
  },
  {
   "cell_type": "code",
   "execution_count": 8,
   "id": "b914800a",
   "metadata": {
    "execution": {
     "iopub.execute_input": "2023-04-28T17:06:16.777934Z",
     "iopub.status.busy": "2023-04-28T17:06:16.776319Z",
     "iopub.status.idle": "2023-04-28T17:06:20.206755Z",
     "shell.execute_reply": "2023-04-28T17:06:20.204460Z"
    },
    "papermill": {
     "duration": 3.447921,
     "end_time": "2023-04-28T17:06:20.209239",
     "exception": false,
     "start_time": "2023-04-28T17:06:16.761318",
     "status": "completed"
    },
    "tags": []
   },
   "outputs": [
    {
     "name": "stdout",
     "output_type": "stream",
     "text": [
      "tibble [5,803,720 × 17] (S3: tbl_df/tbl/data.frame)\n",
      " $ ride_id           : chr [1:5803720] \"3564070EEFD12711\" \"0B820C7FCF22F489\" \"89EEEE32293F07FF\" \"84D4751AEB31888D\" ...\n",
      " $ rideable_type     : chr [1:5803720] \"electric_bike\" \"classic_bike\" \"classic_bike\" \"classic_bike\" ...\n",
      " $ started_at        : POSIXct[1:5803720], format: \"2022-04-06 17:42:48\" \"2022-04-24 19:23:07\" ...\n",
      " $ ended_at          : POSIXct[1:5803720], format: \"2022-04-06 17:54:36\" \"2022-04-24 19:43:17\" ...\n",
      " $ ride_length       : 'difftime' num [1:5803720] 708 1210 368 563 ...\n",
      "  ..- attr(*, \"units\")= chr \"secs\"\n",
      " $ day_of_the_week   : num [1:5803720] 4 1 4 6 7 5 2 3 6 6 ...\n",
      " $ start_station_name: chr [1:5803720] \"Paulina St & Howard St\" \"Wentworth Ave & Cermak Rd\" \"Halsted St & Polk St\" \"Wentworth Ave & Cermak Rd\" ...\n",
      " $ end_station_name  : chr [1:5803720] \"University Library (NU)\" \"Green St & Madison St\" \"Green St & Madison St\" \"Delano Ct & Roosevelt Rd\" ...\n",
      " $ member_casual     : chr [1:5803720] \"member\" \"member\" \"member\" \"casual\" ...\n",
      " $ date              : Date[1:5803720], format: \"2022-04-06\" \"2022-04-24\" ...\n",
      " $ month             : chr [1:5803720] \"04\" \"04\" \"04\" \"04\" ...\n",
      " $ day               : chr [1:5803720] \"06\" \"24\" \"20\" \"22\" ...\n",
      " $ year              : chr [1:5803720] \"2022\" \"2022\" \"2022\" \"2022\" ...\n",
      " $ Time              : POSIXct[1:5803720], format: \"2022-04-06 17:42:48\" \"2022-04-24 19:23:07\" ...\n",
      " $ Hours             : chr [1:5803720] \"17\" \"19\" \"19\" \"21\" ...\n",
      " $ Minutes           : chr [1:5803720] \"42\" \"23\" \"29\" \"14\" ...\n",
      " $ day_of_week       : chr [1:5803720] \"Wednesday\" \"Sunday\" \"Wednesday\" \"Friday\" ...\n"
     ]
    }
   ],
   "source": [
    "all_trips$ride_length <- difftime(all_trips$ended_at,all_trips$started_at)\n",
    "all_trips$day_of_week <- format(as.Date(all_trips$date), \"%A\")\n",
    "str(all_trips)"
   ]
  },
  {
   "cell_type": "markdown",
   "id": "dd51d299",
   "metadata": {
    "papermill": {
     "duration": 0.011791,
     "end_time": "2023-04-28T17:06:20.232997",
     "exception": false,
     "start_time": "2023-04-28T17:06:20.221206",
     "status": "completed"
    },
    "tags": []
   },
   "source": [
    "* Remvoing the entries in the data frame were the ride length are negative\n",
    "* Fixing the order of the day of the week column"
   ]
  },
  {
   "cell_type": "code",
   "execution_count": 9,
   "id": "2e6e0dca",
   "metadata": {
    "execution": {
     "iopub.execute_input": "2023-04-28T17:06:20.260498Z",
     "iopub.status.busy": "2023-04-28T17:06:20.258862Z",
     "iopub.status.idle": "2023-04-28T17:06:22.296480Z",
     "shell.execute_reply": "2023-04-28T17:06:22.294658Z"
    },
    "papermill": {
     "duration": 2.054278,
     "end_time": "2023-04-28T17:06:22.299174",
     "exception": false,
     "start_time": "2023-04-28T17:06:20.244896",
     "status": "completed"
    },
    "tags": []
   },
   "outputs": [],
   "source": [
    "all_trips_v2 <- all_trips[!(all_trips$ride_length<0),]\n",
    "all_trips$day_of_week <- ordered(all_trips$day_of_week, levels=c(\"Sunday\", \"Monday\", \"Tuesday\", \"Wednesday\", \"Thursday\", \"Friday\", \"Saturday\"))\n"
   ]
  },
  {
   "cell_type": "code",
   "execution_count": 10,
   "id": "145d676f",
   "metadata": {
    "execution": {
     "iopub.execute_input": "2023-04-28T17:06:22.326437Z",
     "iopub.status.busy": "2023-04-28T17:06:22.324904Z",
     "iopub.status.idle": "2023-04-28T17:06:31.028754Z",
     "shell.execute_reply": "2023-04-28T17:06:31.026954Z"
    },
    "papermill": {
     "duration": 8.72022,
     "end_time": "2023-04-28T17:06:31.031400",
     "exception": false,
     "start_time": "2023-04-28T17:06:22.311180",
     "status": "completed"
    },
    "tags": []
   },
   "outputs": [
    {
     "data": {
      "text/html": [
       "FALSE"
      ],
      "text/latex": [
       "FALSE"
      ],
      "text/markdown": [
       "FALSE"
      ],
      "text/plain": [
       "[1] FALSE"
      ]
     },
     "metadata": {},
     "output_type": "display_data"
    },
    {
     "data": {
      "text/html": [
       "TRUE"
      ],
      "text/latex": [
       "TRUE"
      ],
      "text/markdown": [
       "TRUE"
      ],
      "text/plain": [
       "[1] TRUE"
      ]
     },
     "metadata": {},
     "output_type": "display_data"
    }
   ],
   "source": [
    "# Convert \"ride_length\" from Factor to numeric so we can run calculations on the data\n",
    "is.factor(all_trips_v2$ride_length)\n",
    "all_trips_v2$ride_length <- as.numeric(as.character(all_trips_v2$ride_length))\n",
    "is.numeric(all_trips_v2$ride_length)\n"
   ]
  },
  {
   "cell_type": "markdown",
   "id": "a138eb03",
   "metadata": {
    "papermill": {
     "duration": 0.012139,
     "end_time": "2023-04-28T17:06:31.055429",
     "exception": false,
     "start_time": "2023-04-28T17:06:31.043290",
     "status": "completed"
    },
    "tags": []
   },
   "source": [
    "# **Data Analysis**"
   ]
  },
  {
   "cell_type": "code",
   "execution_count": 11,
   "id": "484d4f9f",
   "metadata": {
    "execution": {
     "iopub.execute_input": "2023-04-28T17:06:31.083821Z",
     "iopub.status.busy": "2023-04-28T17:06:31.082305Z",
     "iopub.status.idle": "2023-04-28T17:06:58.858926Z",
     "shell.execute_reply": "2023-04-28T17:06:58.856279Z"
    },
    "papermill": {
     "duration": 27.79451,
     "end_time": "2023-04-28T17:06:58.861535",
     "exception": false,
     "start_time": "2023-04-28T17:06:31.067025",
     "status": "completed"
    },
    "tags": []
   },
   "outputs": [
    {
     "data": {
      "text/plain": [
       "   Min. 1st Qu.  Median    Mean 3rd Qu.    Max. \n",
       "      0     342     600    1139    1080 2483235 "
      ]
     },
     "metadata": {},
     "output_type": "display_data"
    },
    {
     "data": {
      "text/html": [
       "<table class=\"dataframe\">\n",
       "<caption>A data.frame: 2 × 2</caption>\n",
       "<thead>\n",
       "\t<tr><th scope=col>all_trips_v2$member_casual</th><th scope=col>all_trips_v2$ride_length</th></tr>\n",
       "\t<tr><th scope=col>&lt;chr&gt;</th><th scope=col>&lt;dbl&gt;</th></tr>\n",
       "</thead>\n",
       "<tbody>\n",
       "\t<tr><td>casual</td><td>1716.1474</td></tr>\n",
       "\t<tr><td>member</td><td> 749.6492</td></tr>\n",
       "</tbody>\n",
       "</table>\n"
      ],
      "text/latex": [
       "A data.frame: 2 × 2\n",
       "\\begin{tabular}{ll}\n",
       " all\\_trips\\_v2\\$member\\_casual & all\\_trips\\_v2\\$ride\\_length\\\\\n",
       " <chr> & <dbl>\\\\\n",
       "\\hline\n",
       "\t casual & 1716.1474\\\\\n",
       "\t member &  749.6492\\\\\n",
       "\\end{tabular}\n"
      ],
      "text/markdown": [
       "\n",
       "A data.frame: 2 × 2\n",
       "\n",
       "| all_trips_v2$member_casual &lt;chr&gt; | all_trips_v2$ride_length &lt;dbl&gt; |\n",
       "|---|---|\n",
       "| casual | 1716.1474 |\n",
       "| member |  749.6492 |\n",
       "\n"
      ],
      "text/plain": [
       "  all_trips_v2$member_casual all_trips_v2$ride_length\n",
       "1 casual                     1716.1474               \n",
       "2 member                      749.6492               "
      ]
     },
     "metadata": {},
     "output_type": "display_data"
    },
    {
     "data": {
      "text/html": [
       "<table class=\"dataframe\">\n",
       "<caption>A data.frame: 2 × 2</caption>\n",
       "<thead>\n",
       "\t<tr><th scope=col>all_trips_v2$member_casual</th><th scope=col>all_trips_v2$ride_length</th></tr>\n",
       "\t<tr><th scope=col>&lt;chr&gt;</th><th scope=col>&lt;dbl&gt;</th></tr>\n",
       "</thead>\n",
       "<tbody>\n",
       "\t<tr><td>casual</td><td>761</td></tr>\n",
       "\t<tr><td>member</td><td>522</td></tr>\n",
       "</tbody>\n",
       "</table>\n"
      ],
      "text/latex": [
       "A data.frame: 2 × 2\n",
       "\\begin{tabular}{ll}\n",
       " all\\_trips\\_v2\\$member\\_casual & all\\_trips\\_v2\\$ride\\_length\\\\\n",
       " <chr> & <dbl>\\\\\n",
       "\\hline\n",
       "\t casual & 761\\\\\n",
       "\t member & 522\\\\\n",
       "\\end{tabular}\n"
      ],
      "text/markdown": [
       "\n",
       "A data.frame: 2 × 2\n",
       "\n",
       "| all_trips_v2$member_casual &lt;chr&gt; | all_trips_v2$ride_length &lt;dbl&gt; |\n",
       "|---|---|\n",
       "| casual | 761 |\n",
       "| member | 522 |\n",
       "\n"
      ],
      "text/plain": [
       "  all_trips_v2$member_casual all_trips_v2$ride_length\n",
       "1 casual                     761                     \n",
       "2 member                     522                     "
      ]
     },
     "metadata": {},
     "output_type": "display_data"
    },
    {
     "data": {
      "text/html": [
       "<table class=\"dataframe\">\n",
       "<caption>A data.frame: 2 × 2</caption>\n",
       "<thead>\n",
       "\t<tr><th scope=col>all_trips_v2$member_casual</th><th scope=col>all_trips_v2$ride_length</th></tr>\n",
       "\t<tr><th scope=col>&lt;chr&gt;</th><th scope=col>&lt;dbl&gt;</th></tr>\n",
       "</thead>\n",
       "<tbody>\n",
       "\t<tr><td>casual</td><td>2483235</td></tr>\n",
       "\t<tr><td>member</td><td>  93580</td></tr>\n",
       "</tbody>\n",
       "</table>\n"
      ],
      "text/latex": [
       "A data.frame: 2 × 2\n",
       "\\begin{tabular}{ll}\n",
       " all\\_trips\\_v2\\$member\\_casual & all\\_trips\\_v2\\$ride\\_length\\\\\n",
       " <chr> & <dbl>\\\\\n",
       "\\hline\n",
       "\t casual & 2483235\\\\\n",
       "\t member &   93580\\\\\n",
       "\\end{tabular}\n"
      ],
      "text/markdown": [
       "\n",
       "A data.frame: 2 × 2\n",
       "\n",
       "| all_trips_v2$member_casual &lt;chr&gt; | all_trips_v2$ride_length &lt;dbl&gt; |\n",
       "|---|---|\n",
       "| casual | 2483235 |\n",
       "| member |   93580 |\n",
       "\n"
      ],
      "text/plain": [
       "  all_trips_v2$member_casual all_trips_v2$ride_length\n",
       "1 casual                     2483235                 \n",
       "2 member                       93580                 "
      ]
     },
     "metadata": {},
     "output_type": "display_data"
    },
    {
     "data": {
      "text/html": [
       "<table class=\"dataframe\">\n",
       "<caption>A data.frame: 2 × 2</caption>\n",
       "<thead>\n",
       "\t<tr><th scope=col>all_trips_v2$member_casual</th><th scope=col>all_trips_v2$ride_length</th></tr>\n",
       "\t<tr><th scope=col>&lt;chr&gt;</th><th scope=col>&lt;dbl&gt;</th></tr>\n",
       "</thead>\n",
       "<tbody>\n",
       "\t<tr><td>casual</td><td>0</td></tr>\n",
       "\t<tr><td>member</td><td>0</td></tr>\n",
       "</tbody>\n",
       "</table>\n"
      ],
      "text/latex": [
       "A data.frame: 2 × 2\n",
       "\\begin{tabular}{ll}\n",
       " all\\_trips\\_v2\\$member\\_casual & all\\_trips\\_v2\\$ride\\_length\\\\\n",
       " <chr> & <dbl>\\\\\n",
       "\\hline\n",
       "\t casual & 0\\\\\n",
       "\t member & 0\\\\\n",
       "\\end{tabular}\n"
      ],
      "text/markdown": [
       "\n",
       "A data.frame: 2 × 2\n",
       "\n",
       "| all_trips_v2$member_casual &lt;chr&gt; | all_trips_v2$ride_length &lt;dbl&gt; |\n",
       "|---|---|\n",
       "| casual | 0 |\n",
       "| member | 0 |\n",
       "\n"
      ],
      "text/plain": [
       "  all_trips_v2$member_casual all_trips_v2$ride_length\n",
       "1 casual                     0                       \n",
       "2 member                     0                       "
      ]
     },
     "metadata": {},
     "output_type": "display_data"
    },
    {
     "data": {
      "text/html": [
       "<table class=\"dataframe\">\n",
       "<caption>A data.frame: 14 × 3</caption>\n",
       "<thead>\n",
       "\t<tr><th scope=col>all_trips_v2$member_casual</th><th scope=col>all_trips_v2$day_of_week</th><th scope=col>all_trips_v2$ride_length</th></tr>\n",
       "\t<tr><th scope=col>&lt;chr&gt;</th><th scope=col>&lt;chr&gt;</th><th scope=col>&lt;dbl&gt;</th></tr>\n",
       "</thead>\n",
       "<tbody>\n",
       "\t<tr><td>casual</td><td>Friday   </td><td>1662.0162</td></tr>\n",
       "\t<tr><td>member</td><td>Friday   </td><td> 739.8502</td></tr>\n",
       "\t<tr><td>casual</td><td>Monday   </td><td>1707.5969</td></tr>\n",
       "\t<tr><td>member</td><td>Monday   </td><td> 720.9854</td></tr>\n",
       "\t<tr><td>casual</td><td>Saturday </td><td>1939.7328</td></tr>\n",
       "\t<tr><td>member</td><td>Saturday </td><td> 838.0433</td></tr>\n",
       "\t<tr><td>casual</td><td>Sunday   </td><td>2012.3142</td></tr>\n",
       "\t<tr><td>member</td><td>Sunday   </td><td> 830.0163</td></tr>\n",
       "\t<tr><td>casual</td><td>Thursday </td><td>1489.4543</td></tr>\n",
       "\t<tr><td>member</td><td>Thursday </td><td> 725.5447</td></tr>\n",
       "\t<tr><td>casual</td><td>Tuesday  </td><td>1520.5163</td></tr>\n",
       "\t<tr><td>member</td><td>Tuesday  </td><td> 714.5143</td></tr>\n",
       "\t<tr><td>casual</td><td>Wednesday</td><td>1440.8014</td></tr>\n",
       "\t<tr><td>member</td><td>Wednesday</td><td> 711.4800</td></tr>\n",
       "</tbody>\n",
       "</table>\n"
      ],
      "text/latex": [
       "A data.frame: 14 × 3\n",
       "\\begin{tabular}{lll}\n",
       " all\\_trips\\_v2\\$member\\_casual & all\\_trips\\_v2\\$day\\_of\\_week & all\\_trips\\_v2\\$ride\\_length\\\\\n",
       " <chr> & <chr> & <dbl>\\\\\n",
       "\\hline\n",
       "\t casual & Friday    & 1662.0162\\\\\n",
       "\t member & Friday    &  739.8502\\\\\n",
       "\t casual & Monday    & 1707.5969\\\\\n",
       "\t member & Monday    &  720.9854\\\\\n",
       "\t casual & Saturday  & 1939.7328\\\\\n",
       "\t member & Saturday  &  838.0433\\\\\n",
       "\t casual & Sunday    & 2012.3142\\\\\n",
       "\t member & Sunday    &  830.0163\\\\\n",
       "\t casual & Thursday  & 1489.4543\\\\\n",
       "\t member & Thursday  &  725.5447\\\\\n",
       "\t casual & Tuesday   & 1520.5163\\\\\n",
       "\t member & Tuesday   &  714.5143\\\\\n",
       "\t casual & Wednesday & 1440.8014\\\\\n",
       "\t member & Wednesday &  711.4800\\\\\n",
       "\\end{tabular}\n"
      ],
      "text/markdown": [
       "\n",
       "A data.frame: 14 × 3\n",
       "\n",
       "| all_trips_v2$member_casual &lt;chr&gt; | all_trips_v2$day_of_week &lt;chr&gt; | all_trips_v2$ride_length &lt;dbl&gt; |\n",
       "|---|---|---|\n",
       "| casual | Friday    | 1662.0162 |\n",
       "| member | Friday    |  739.8502 |\n",
       "| casual | Monday    | 1707.5969 |\n",
       "| member | Monday    |  720.9854 |\n",
       "| casual | Saturday  | 1939.7328 |\n",
       "| member | Saturday  |  838.0433 |\n",
       "| casual | Sunday    | 2012.3142 |\n",
       "| member | Sunday    |  830.0163 |\n",
       "| casual | Thursday  | 1489.4543 |\n",
       "| member | Thursday  |  725.5447 |\n",
       "| casual | Tuesday   | 1520.5163 |\n",
       "| member | Tuesday   |  714.5143 |\n",
       "| casual | Wednesday | 1440.8014 |\n",
       "| member | Wednesday |  711.4800 |\n",
       "\n"
      ],
      "text/plain": [
       "   all_trips_v2$member_casual all_trips_v2$day_of_week all_trips_v2$ride_length\n",
       "1  casual                     Friday                   1662.0162               \n",
       "2  member                     Friday                    739.8502               \n",
       "3  casual                     Monday                   1707.5969               \n",
       "4  member                     Monday                    720.9854               \n",
       "5  casual                     Saturday                 1939.7328               \n",
       "6  member                     Saturday                  838.0433               \n",
       "7  casual                     Sunday                   2012.3142               \n",
       "8  member                     Sunday                    830.0163               \n",
       "9  casual                     Thursday                 1489.4543               \n",
       "10 member                     Thursday                  725.5447               \n",
       "11 casual                     Tuesday                  1520.5163               \n",
       "12 member                     Tuesday                   714.5143               \n",
       "13 casual                     Wednesday                1440.8014               \n",
       "14 member                     Wednesday                 711.4800               "
      ]
     },
     "metadata": {},
     "output_type": "display_data"
    },
    {
     "data": {
      "text/html": [
       "<table class=\"dataframe\">\n",
       "<caption>A data.frame: 14 × 3</caption>\n",
       "<thead>\n",
       "\t<tr><th scope=col>all_trips_v2$member_casual</th><th scope=col>all_trips_v2$day_of_week</th><th scope=col>all_trips_v2$ride_length</th></tr>\n",
       "\t<tr><th scope=col>&lt;chr&gt;</th><th scope=col>&lt;chr&gt;</th><th scope=col>&lt;dbl&gt;</th></tr>\n",
       "</thead>\n",
       "<tbody>\n",
       "\t<tr><td>casual</td><td>Friday   </td><td>1662.0162</td></tr>\n",
       "\t<tr><td>member</td><td>Friday   </td><td> 739.8502</td></tr>\n",
       "\t<tr><td>casual</td><td>Monday   </td><td>1707.5969</td></tr>\n",
       "\t<tr><td>member</td><td>Monday   </td><td> 720.9854</td></tr>\n",
       "\t<tr><td>casual</td><td>Saturday </td><td>1939.7328</td></tr>\n",
       "\t<tr><td>member</td><td>Saturday </td><td> 838.0433</td></tr>\n",
       "\t<tr><td>casual</td><td>Sunday   </td><td>2012.3142</td></tr>\n",
       "\t<tr><td>member</td><td>Sunday   </td><td> 830.0163</td></tr>\n",
       "\t<tr><td>casual</td><td>Thursday </td><td>1489.4543</td></tr>\n",
       "\t<tr><td>member</td><td>Thursday </td><td> 725.5447</td></tr>\n",
       "\t<tr><td>casual</td><td>Tuesday  </td><td>1520.5163</td></tr>\n",
       "\t<tr><td>member</td><td>Tuesday  </td><td> 714.5143</td></tr>\n",
       "\t<tr><td>casual</td><td>Wednesday</td><td>1440.8014</td></tr>\n",
       "\t<tr><td>member</td><td>Wednesday</td><td> 711.4800</td></tr>\n",
       "</tbody>\n",
       "</table>\n"
      ],
      "text/latex": [
       "A data.frame: 14 × 3\n",
       "\\begin{tabular}{lll}\n",
       " all\\_trips\\_v2\\$member\\_casual & all\\_trips\\_v2\\$day\\_of\\_week & all\\_trips\\_v2\\$ride\\_length\\\\\n",
       " <chr> & <chr> & <dbl>\\\\\n",
       "\\hline\n",
       "\t casual & Friday    & 1662.0162\\\\\n",
       "\t member & Friday    &  739.8502\\\\\n",
       "\t casual & Monday    & 1707.5969\\\\\n",
       "\t member & Monday    &  720.9854\\\\\n",
       "\t casual & Saturday  & 1939.7328\\\\\n",
       "\t member & Saturday  &  838.0433\\\\\n",
       "\t casual & Sunday    & 2012.3142\\\\\n",
       "\t member & Sunday    &  830.0163\\\\\n",
       "\t casual & Thursday  & 1489.4543\\\\\n",
       "\t member & Thursday  &  725.5447\\\\\n",
       "\t casual & Tuesday   & 1520.5163\\\\\n",
       "\t member & Tuesday   &  714.5143\\\\\n",
       "\t casual & Wednesday & 1440.8014\\\\\n",
       "\t member & Wednesday &  711.4800\\\\\n",
       "\\end{tabular}\n"
      ],
      "text/markdown": [
       "\n",
       "A data.frame: 14 × 3\n",
       "\n",
       "| all_trips_v2$member_casual &lt;chr&gt; | all_trips_v2$day_of_week &lt;chr&gt; | all_trips_v2$ride_length &lt;dbl&gt; |\n",
       "|---|---|---|\n",
       "| casual | Friday    | 1662.0162 |\n",
       "| member | Friday    |  739.8502 |\n",
       "| casual | Monday    | 1707.5969 |\n",
       "| member | Monday    |  720.9854 |\n",
       "| casual | Saturday  | 1939.7328 |\n",
       "| member | Saturday  |  838.0433 |\n",
       "| casual | Sunday    | 2012.3142 |\n",
       "| member | Sunday    |  830.0163 |\n",
       "| casual | Thursday  | 1489.4543 |\n",
       "| member | Thursday  |  725.5447 |\n",
       "| casual | Tuesday   | 1520.5163 |\n",
       "| member | Tuesday   |  714.5143 |\n",
       "| casual | Wednesday | 1440.8014 |\n",
       "| member | Wednesday |  711.4800 |\n",
       "\n"
      ],
      "text/plain": [
       "   all_trips_v2$member_casual all_trips_v2$day_of_week all_trips_v2$ride_length\n",
       "1  casual                     Friday                   1662.0162               \n",
       "2  member                     Friday                    739.8502               \n",
       "3  casual                     Monday                   1707.5969               \n",
       "4  member                     Monday                    720.9854               \n",
       "5  casual                     Saturday                 1939.7328               \n",
       "6  member                     Saturday                  838.0433               \n",
       "7  casual                     Sunday                   2012.3142               \n",
       "8  member                     Sunday                    830.0163               \n",
       "9  casual                     Thursday                 1489.4543               \n",
       "10 member                     Thursday                  725.5447               \n",
       "11 casual                     Tuesday                  1520.5163               \n",
       "12 member                     Tuesday                   714.5143               \n",
       "13 casual                     Wednesday                1440.8014               \n",
       "14 member                     Wednesday                 711.4800               "
      ]
     },
     "metadata": {},
     "output_type": "display_data"
    }
   ],
   "source": [
    "# Ride length summery\n",
    "summary(all_trips_v2$ride_length)\n",
    "\n",
    "# Compare members and casual users\n",
    "aggregate(all_trips_v2$ride_length ~ all_trips_v2$member_casual, FUN = mean)\n",
    "aggregate(all_trips_v2$ride_length ~ all_trips_v2$member_casual, FUN = median)\n",
    "aggregate(all_trips_v2$ride_length ~ all_trips_v2$member_casual, FUN = max)\n",
    "aggregate(all_trips_v2$ride_length ~ all_trips_v2$member_casual, FUN = min)\n",
    "\n",
    "# See the average ride time by each day for members vs casual users\n",
    "aggregate(all_trips_v2$ride_length ~ all_trips_v2$member_casual + all_trips_v2$day_of_week, FUN = mean)\n",
    "\n",
    "# Now, let's run the average ride time by each day for members vs casual users\n",
    "aggregate(all_trips_v2$ride_length ~ all_trips_v2$member_casual + all_trips_v2$day_of_week, FUN = mean)\n"
   ]
  },
  {
   "cell_type": "markdown",
   "id": "d60629bc",
   "metadata": {
    "papermill": {
     "duration": 0.013091,
     "end_time": "2023-04-28T17:06:58.888461",
     "exception": false,
     "start_time": "2023-04-28T17:06:58.875370",
     "status": "completed"
    },
    "tags": []
   },
   "source": [
    "# **Visualization**"
   ]
  },
  {
   "cell_type": "markdown",
   "id": "b796c74d",
   "metadata": {
    "papermill": {
     "duration": 0.014308,
     "end_time": "2023-04-28T17:06:58.915814",
     "exception": false,
     "start_time": "2023-04-28T17:06:58.901506",
     "status": "completed"
    },
    "tags": []
   },
   "source": [
    "## Visualizing number of rides in last 12 months"
   ]
  },
  {
   "cell_type": "code",
   "execution_count": 12,
   "id": "c1f679e8",
   "metadata": {
    "execution": {
     "iopub.execute_input": "2023-04-28T17:06:58.947880Z",
     "iopub.status.busy": "2023-04-28T17:06:58.946130Z",
     "iopub.status.idle": "2023-04-28T17:07:00.015431Z",
     "shell.execute_reply": "2023-04-28T17:07:00.011672Z"
    },
    "papermill": {
     "duration": 1.089292,
     "end_time": "2023-04-28T17:07:00.018686",
     "exception": false,
     "start_time": "2023-04-28T17:06:58.929394",
     "status": "completed"
    },
    "tags": []
   },
   "outputs": [
    {
     "name": "stderr",
     "output_type": "stream",
     "text": [
      "\u001b[1m\u001b[22m`summarise()` has grouped output by 'month'. You can override using the\n",
      "`.groups` argument.\n"
     ]
    },
    {
     "data": {
      "image/png": "[encoded data removed]"
     },
     "metadata": {
      "image/png": {
       "height": 420,
       "width": 420
      }
     },
     "output_type": "display_data"
    }
   ],
   "source": [
    "all_trips_v2 %>% # Monthy total rides\n",
    "  group_by(month, member_casual) %>% summarise(number_of_rides=n())%>%\n",
    "  ggplot(aes(x=month, y=number_of_rides, fill=member_casual))+ geom_col(position = \"dodge\")"
   ]
  },
  {
   "cell_type": "markdown",
   "id": "a7f063b9",
   "metadata": {
    "papermill": {
     "duration": 0.014538,
     "end_time": "2023-04-28T17:07:00.048702",
     "exception": false,
     "start_time": "2023-04-28T17:07:00.034164",
     "status": "completed"
    },
    "tags": []
   },
   "source": [
    "* Number of rides for both members and casual customers sees a drastic rise in the summer season month of June, July, and August."
   ]
  },
  {
   "cell_type": "markdown",
   "id": "988e2895",
   "metadata": {
    "papermill": {
     "duration": 0.01359,
     "end_time": "2023-04-28T17:07:00.076120",
     "exception": false,
     "start_time": "2023-04-28T17:07:00.062530",
     "status": "completed"
    },
    "tags": []
   },
   "source": [
    "##  Visualizing average ride length in last 12 months"
   ]
  },
  {
   "cell_type": "code",
   "execution_count": 13,
   "id": "e25f45ba",
   "metadata": {
    "execution": {
     "iopub.execute_input": "2023-04-28T17:07:00.107854Z",
     "iopub.status.busy": "2023-04-28T17:07:00.106045Z",
     "iopub.status.idle": "2023-04-28T17:07:01.244153Z",
     "shell.execute_reply": "2023-04-28T17:07:01.242010Z"
    },
    "papermill": {
     "duration": 1.156865,
     "end_time": "2023-04-28T17:07:01.247186",
     "exception": false,
     "start_time": "2023-04-28T17:07:00.090321",
     "status": "completed"
    },
    "tags": []
   },
   "outputs": [
    {
     "name": "stderr",
     "output_type": "stream",
     "text": [
      "\u001b[1m\u001b[22m`summarise()` has grouped output by 'month'. You can override using the\n",
      "`.groups` argument.\n"
     ]
    },
    {
     "data": {
      "image/png": "[encoded data removed]"
     },
     "metadata": {
      "image/png": {
       "height": 420,
       "width": 420
      }
     },
     "output_type": "display_data"
    }
   ],
   "source": [
    "all_trips_v2 %>% # Monthly Avg ride length\n",
    "  group_by(month, member_casual) %>% summarise(avg_duration=mean(ride_length))%>%\n",
    "  ggplot(aes(x=month, y=avg_duration, fill=member_casual))+ geom_col(position = \"dodge\")"
   ]
  },
  {
   "cell_type": "markdown",
   "id": "cfeeb8ab",
   "metadata": {
    "papermill": {
     "duration": 0.014386,
     "end_time": "2023-04-28T17:07:01.276856",
     "exception": false,
     "start_time": "2023-04-28T17:07:01.262470",
     "status": "completed"
    },
    "tags": []
   },
   "source": [
    "* Ride length for the members remains consistent throughout the year with a slight rise in summer season.\n",
    "* The ride length for the casual riders are much greater then members and peaks in the month of June."
   ]
  },
  {
   "cell_type": "markdown",
   "id": "69a1f988",
   "metadata": {
    "papermill": {
     "duration": 0.015254,
     "end_time": "2023-04-28T17:07:01.307595",
     "exception": false,
     "start_time": "2023-04-28T17:07:01.292341",
     "status": "completed"
    },
    "tags": []
   },
   "source": [
    "## Visualizing total rides in each day of the week in last 12 months"
   ]
  },
  {
   "cell_type": "code",
   "execution_count": 14,
   "id": "ab87d839",
   "metadata": {
    "execution": {
     "iopub.execute_input": "2023-04-28T17:07:01.339720Z",
     "iopub.status.busy": "2023-04-28T17:07:01.338111Z",
     "iopub.status.idle": "2023-04-28T17:07:07.359600Z",
     "shell.execute_reply": "2023-04-28T17:07:07.356801Z"
    },
    "papermill": {
     "duration": 6.041129,
     "end_time": "2023-04-28T17:07:07.362936",
     "exception": false,
     "start_time": "2023-04-28T17:07:01.321807",
     "status": "completed"
    },
    "tags": []
   },
   "outputs": [
    {
     "name": "stderr",
     "output_type": "stream",
     "text": [
      "\u001b[1m\u001b[22m`summarise()` has grouped output by 'member_casual'. You can override using the\n",
      "`.groups` argument.\n"
     ]
    },
    {
     "data": {
      "image/png": "[encoded data removed]"
     },
     "metadata": {
      "image/png": {
       "height": 420,
       "width": 420
      }
     },
     "output_type": "display_data"
    }
   ],
   "source": [
    "all_trips %>% # \n",
    "  mutate(weekday = wday(started_at, label = TRUE)) %>% \n",
    "  group_by(member_casual, weekday) %>% \n",
    "  summarise(number_of_rides = n()\n",
    "            ,average_duration = mean(ride_length)) %>% \n",
    "  arrange(member_casual, weekday)  %>% \n",
    "  ggplot(aes(x = weekday, y = number_of_rides, fill = member_casual)) +\n",
    "  geom_col(position = \"dodge\")\n"
   ]
  },
  {
   "cell_type": "markdown",
   "id": "85afc9d8",
   "metadata": {
    "papermill": {
     "duration": 0.056148,
     "end_time": "2023-04-28T17:07:07.434238",
     "exception": false,
     "start_time": "2023-04-28T17:07:07.378090",
     "status": "completed"
    },
    "tags": []
   },
   "source": [
    "* Most number of rides for members are on weekdays.\n",
    "* Most number of rides for casual riders are on weekends."
   ]
  },
  {
   "cell_type": "markdown",
   "id": "3bbca2a2",
   "metadata": {
    "papermill": {
     "duration": 0.014369,
     "end_time": "2023-04-28T17:07:07.463167",
     "exception": false,
     "start_time": "2023-04-28T17:07:07.448798",
     "status": "completed"
    },
    "tags": []
   },
   "source": [
    "## Visualizing avergae ride length in each day of the week in last 12 months"
   ]
  },
  {
   "cell_type": "code",
   "execution_count": 15,
   "id": "7f824fa7",
   "metadata": {
    "execution": {
     "iopub.execute_input": "2023-04-28T17:07:07.496289Z",
     "iopub.status.busy": "2023-04-28T17:07:07.494592Z",
     "iopub.status.idle": "2023-04-28T17:07:13.944536Z",
     "shell.execute_reply": "2023-04-28T17:07:13.941488Z"
    },
    "papermill": {
     "duration": 6.470183,
     "end_time": "2023-04-28T17:07:13.947888",
     "exception": false,
     "start_time": "2023-04-28T17:07:07.477705",
     "status": "completed"
    },
    "tags": []
   },
   "outputs": [
    {
     "name": "stderr",
     "output_type": "stream",
     "text": [
      "\u001b[1m\u001b[22m`summarise()` has grouped output by 'member_casual'. You can override using the\n",
      "`.groups` argument.\n"
     ]
    },
    {
     "data": {
      "image/png": "[encoded data removed]"
     },
     "metadata": {
      "image/png": {
       "height": 420,
       "width": 420
      }
     },
     "output_type": "display_data"
    }
   ],
   "source": [
    "all_trips_v2 %>% # Avg weekly ride length\n",
    "  mutate(weekday = wday(started_at, label = TRUE)) %>% \n",
    "  group_by(member_casual, weekday) %>% \n",
    "  summarise(number_of_rides = n()\n",
    "            ,average_duration = mean(ride_length)) %>% \n",
    "  arrange(member_casual, weekday)  %>% \n",
    "  ggplot(aes(x = weekday, y = average_duration, fill = member_casual)) +\n",
    "  geom_col(position = \"dodge\")"
   ]
  },
  {
   "cell_type": "markdown",
   "id": "b6fae45b",
   "metadata": {
    "papermill": {
     "duration": 0.015352,
     "end_time": "2023-04-28T17:07:13.978553",
     "exception": false,
     "start_time": "2023-04-28T17:07:13.963201",
     "status": "completed"
    },
    "tags": []
   },
   "source": [
    "* The average ride length of the members are consistent throughout the week.\n",
    "* The average ride length of the casual rides peaks on weekends  and much greater then members throughout the week."
   ]
  },
  {
   "cell_type": "markdown",
   "id": "590183d9",
   "metadata": {
    "papermill": {
     "duration": 0.017053,
     "end_time": "2023-04-28T17:07:14.011102",
     "exception": false,
     "start_time": "2023-04-28T17:07:13.994049",
     "status": "completed"
    },
    "tags": []
   },
   "source": [
    "## Visualizing total rides in each hour of the day in last 12 month"
   ]
  },
  {
   "cell_type": "code",
   "execution_count": 16,
   "id": "8d17d0db",
   "metadata": {
    "execution": {
     "iopub.execute_input": "2023-04-28T17:07:14.049211Z",
     "iopub.status.busy": "2023-04-28T17:07:14.047547Z",
     "iopub.status.idle": "2023-04-28T17:07:14.687959Z",
     "shell.execute_reply": "2023-04-28T17:07:14.685136Z"
    },
    "papermill": {
     "duration": 0.661662,
     "end_time": "2023-04-28T17:07:14.691087",
     "exception": false,
     "start_time": "2023-04-28T17:07:14.029425",
     "status": "completed"
    },
    "tags": []
   },
   "outputs": [
    {
     "name": "stderr",
     "output_type": "stream",
     "text": [
      "\u001b[1m\u001b[22m`summarise()` has grouped output by 'Hours'. You can override using the\n",
      "`.groups` argument.\n"
     ]
    },
    {
     "data": {
      "image/png": "[encoded data removed]"
     },
     "metadata": {
      "image/png": {
       "height": 420,
       "width": 420
      }
     },
     "output_type": "display_data"
    }
   ],
   "source": [
    "all_trips_v2 %>% # Total hourly rides \n",
    "  group_by(Hours, member_casual) %>% summarise(number_of_rides= n())%>%\n",
    "  ggplot(aes(x=Hours, y=number_of_rides, fill=member_casual, angle=90))+ geom_col(position = \"dodge\")"
   ]
  },
  {
   "cell_type": "markdown",
   "id": "ac5ec18b",
   "metadata": {
    "papermill": {
     "duration": 0.015888,
     "end_time": "2023-04-28T17:07:14.723060",
     "exception": false,
     "start_time": "2023-04-28T17:07:14.707172",
     "status": "completed"
    },
    "tags": []
   },
   "source": [
    "* The total rides count for both members and casual riders peaks in evening from 4 PM to 6 PM."
   ]
  },
  {
   "cell_type": "markdown",
   "id": "1cdcccd0",
   "metadata": {
    "papermill": {
     "duration": 0.016019,
     "end_time": "2023-04-28T17:07:14.755119",
     "exception": false,
     "start_time": "2023-04-28T17:07:14.739100",
     "status": "completed"
    },
    "tags": []
   },
   "source": [
    "# **Recommendations**\n",
    "\n",
    "Here are few recommendations to increase companies annaul membership count based on above data analysis\n",
    "\n",
    "* Total ride count and average ride length for casual riders peaks in the summer month therefore introducing special summer season features and benifits with annual membership will increase conversion rate.\n",
    "* According to the above analysis casual riders prefer weekends more as compared to weekdays for the rides hence annaul membership with weekend discount and benifits will help increase conversion rate.\n",
    "* Casual riders book more rides between evening 4PM and 6PM most probably after work outing/Excersise hence annual members evening benifits like special gym membership discount, restaurant discounts etc by collaborating with local businesses will help increase annaual membership"
   ]
  }
 ],
 "metadata": {
  "kernelspec": {
   "display_name": "R",
   "language": "R",
   "name": "ir"
  },
  "language_info": {
   "codemirror_mode": "r",
   "file_extension": ".r",
   "mimetype": "text/x-r-source",
   "name": "R",
   "pygments_lexer": "r",
   "version": "4.0.5"
  },
  "papermill": {
   "default_parameters": {},
   "duration": 182.174795,
   "end_time": "2023-04-28T17:07:15.195052",
   "environment_variables": {},
   "exception": null,
   "input_path": "__notebook__.ipynb",
   "output_path": "__notebook__.ipynb",
   "parameters": {},
   "start_time": "2023-04-28T17:04:13.020257",
   "version": "2.4.0"
  }
 },
 "nbformat": 4,
 "nbformat_minor": 5
}
